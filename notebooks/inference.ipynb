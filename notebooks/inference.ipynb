{
 "cells": [
  {
   "cell_type": "code",
   "execution_count": 25,
   "metadata": {},
   "outputs": [],
   "source": [
    "import torch\n",
    "\n",
    "from yoshimidi import inference, player\n",
    "from yoshimidi.data.parse.tracks import Channel, Note\n",
    "from yoshimidi.output_config import OutputConfig\n",
    "from yoshimidi.train import checkpoints\n",
    "from yoshimidi.train.transformer import Transformer\n",
    "from yoshimidi.train.transformer_config import TransformerConfig"
   ]
  },
  {
   "cell_type": "code",
   "execution_count": 67,
   "metadata": {},
   "outputs": [
    {
     "name": "stderr",
     "output_type": "stream",
     "text": [
      "\u001b[32m2023-07-17 22:46:58.934\u001b[0m | \u001b[1mINFO    \u001b[0m | \u001b[36myoshimidi.train.checkpoints\u001b[0m:\u001b[36mload_checkpoint\u001b[0m:\u001b[36m55\u001b[0m - \u001b[1mLoading checkpoint: ../out/checkpoints/2023-07-17_v1_support/step_000500.pt\u001b[0m\n"
     ]
    }
   ],
   "source": [
    "model = Transformer(\n",
    "    TransformerConfig(\n",
    "        num_layers=3,\n",
    "        residual_stream_size=128,\n",
    "        num_attention_heads=4,\n",
    "    )\n",
    ")\n",
    "optimizer = torch.optim.Adam(model.parameters())\n",
    "model, optimizer = checkpoints.load_checkpoint(\n",
    "    \"2023-07-17_v1_support\",\n",
    "    step=\"latest\",\n",
    "    model=model,\n",
    "    optimizer=optimizer,\n",
    "    output_config=OutputConfig(checkpoints=\"../out/checkpoints\"),\n",
    ")"
   ]
  },
  {
   "cell_type": "code",
   "execution_count": 74,
   "metadata": {},
   "outputs": [
    {
     "name": "stderr",
     "output_type": "stream",
     "text": [
      "Generating tokens: 0it [00:00, ?it/s]"
     ]
    },
    {
     "name": "stderr",
     "output_type": "stream",
     "text": [
      "Generating tokens: 499it [00:14, 33.96it/s]\n"
     ]
    }
   ],
   "source": [
    "channel = Channel(\n",
    "    notes=[\n",
    "        Note(note=60, kind=\"on\", velocity=127, time_delta_secs=1),\n",
    "        Note(note=62, kind=\"on\", velocity=127, time_delta_secs=0),\n",
    "        Note(note=64, kind=\"on\", velocity=127, time_delta_secs=0),\n",
    "        Note(note=60, kind=\"off\", velocity=127, time_delta_secs=1),\n",
    "        Note(note=62, kind=\"off\", velocity=127, time_delta_secs=0),\n",
    "        Note(note=64, kind=\"off\", velocity=127, time_delta_secs=0),\n",
    "        Note(note=60, kind=\"on\", velocity=127, time_delta_secs=1),\n",
    "        Note(note=62, kind=\"on\", velocity=127, time_delta_secs=0),\n",
    "        Note(note=64, kind=\"on\", velocity=127, time_delta_secs=0),\n",
    "        Note(note=60, kind=\"off\", velocity=127, time_delta_secs=1),\n",
    "        Note(note=62, kind=\"off\", velocity=127, time_delta_secs=0),\n",
    "        Note(note=64, kind=\"off\", velocity=127, time_delta_secs=0),\n",
    "        Note(note=60, kind=\"on\", velocity=127, time_delta_secs=1),\n",
    "        Note(note=62, kind=\"on\", velocity=127, time_delta_secs=0),\n",
    "        Note(note=64, kind=\"on\", velocity=127, time_delta_secs=0),\n",
    "    ],\n",
    "    program_nums=[],\n",
    ")\n",
    "\n",
    "notes = inference.run_inference(\n",
    "    model,\n",
    "    prompt=channel,\n",
    "    max_new_tokens=256,\n",
    "    temperature=0.1,\n",
    ")\n",
    "channel.notes.extend(notes)"
   ]
  },
  {
   "cell_type": "code",
   "execution_count": 75,
   "metadata": {},
   "outputs": [
    {
     "name": "stderr",
     "output_type": "stream",
     "text": [
      "\u001b[32m2023-07-17 22:50:45.361\u001b[0m | \u001b[1mINFO    \u001b[0m | \u001b[36myoshimidi.player\u001b[0m:\u001b[36mplay\u001b[0m:\u001b[36m12\u001b[0m - \u001b[1mPlaying /var/folders/7w/66fh_d3s5hb0br9f7wtqww1h0000gn/T/tmpru71gf5i\u001b[0m\n"
     ]
    },
    {
     "name": "stderr",
     "output_type": "stream",
     "text": [
      "\u001b[32m2023-07-17 22:51:51.660\u001b[0m | \u001b[1mINFO    \u001b[0m | \u001b[36myoshimidi.player\u001b[0m:\u001b[36mplay\u001b[0m:\u001b[36m17\u001b[0m - \u001b[1mFinished playing\u001b[0m\n"
     ]
    }
   ],
   "source": [
    "player.play_channel(channel)"
   ]
  }
 ],
 "metadata": {
  "kernelspec": {
   "display_name": ".venv",
   "language": "python",
   "name": "python3"
  },
  "language_info": {
   "codemirror_mode": {
    "name": "ipython",
    "version": 3
   },
   "file_extension": ".py",
   "mimetype": "text/x-python",
   "name": "python",
   "nbconvert_exporter": "python",
   "pygments_lexer": "ipython3",
   "version": "3.10.11"
  },
  "orig_nbformat": 4
 },
 "nbformat": 4,
 "nbformat_minor": 2
}
