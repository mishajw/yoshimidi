{
 "cells": [
  {
   "cell_type": "code",
   "execution_count": 1,
   "metadata": {},
   "outputs": [
    {
     "name": "stdout",
     "output_type": "stream",
     "text": [
      "pygame 2.5.0 (SDL 2.28.0, Python 3.10.11)\n",
      "Hello from the pygame community. https://www.pygame.org/contribute.html\n"
     ]
    }
   ],
   "source": [
    "import torch\n",
    "\n",
    "from yoshimidi import inference, player\n",
    "from yoshimidi.data.parse.tracks import Channel, Note\n",
    "from yoshimidi.output_config import OutputConfig\n",
    "from yoshimidi.train import checkpoints\n",
    "from yoshimidi.train.transformer import Transformer\n",
    "from yoshimidi.train.transformer_config import TransformerConfig"
   ]
  },
  {
   "cell_type": "code",
   "execution_count": 32,
   "metadata": {},
   "outputs": [
    {
     "name": "stderr",
     "output_type": "stream",
     "text": [
      "\u001b[32m2023-07-18 20:27:41.533\u001b[0m | \u001b[1mINFO    \u001b[0m | \u001b[36myoshimidi.train.checkpoints\u001b[0m:\u001b[36mload_checkpoint\u001b[0m:\u001b[36m55\u001b[0m - \u001b[1mLoading checkpoint: ../out/checkpoints/2023-07-18_v1/step_005200.pt\u001b[0m\n"
     ]
    }
   ],
   "source": [
    "model = Transformer(\n",
    "    TransformerConfig(\n",
    "        num_layers=3,\n",
    "        residual_stream_size=128,\n",
    "        num_attention_heads=4,\n",
    "    )\n",
    ")\n",
    "optimizer = torch.optim.Adam(model.parameters())\n",
    "model, optimizer = checkpoints.load_checkpoint(\n",
    "    \"2023-07-18_v1\",\n",
    "    step=5200,\n",
    "    model=model,\n",
    "    optimizer=optimizer,\n",
    "    output_config=OutputConfig(checkpoints=\"../out/checkpoints\"),\n",
    ")"
   ]
  },
  {
   "cell_type": "code",
   "execution_count": 34,
   "metadata": {},
   "outputs": [
    {
     "name": "stderr",
     "output_type": "stream",
     "text": [
      "Generating tokens: 511it [00:10, 46.46it/s] \n"
     ]
    }
   ],
   "source": [
    "channel = Channel(\n",
    "    notes=[\n",
    "        Note(note=60, kind=\"on\", velocity=127, time_delta_secs=1),\n",
    "        Note(note=62, kind=\"on\", velocity=127, time_delta_secs=0),\n",
    "        Note(note=64, kind=\"on\", velocity=127, time_delta_secs=0),\n",
    "        Note(note=60, kind=\"off\", velocity=127, time_delta_secs=1),\n",
    "        Note(note=62, kind=\"off\", velocity=127, time_delta_secs=0),\n",
    "        Note(note=64, kind=\"off\", velocity=127, time_delta_secs=0),\n",
    "        Note(note=60, kind=\"on\", velocity=127, time_delta_secs=1),\n",
    "        Note(note=62, kind=\"on\", velocity=127, time_delta_secs=0),\n",
    "        Note(note=64, kind=\"on\", velocity=127, time_delta_secs=0),\n",
    "        Note(note=60, kind=\"off\", velocity=127, time_delta_secs=1),\n",
    "        Note(note=62, kind=\"off\", velocity=127, time_delta_secs=0),\n",
    "        Note(note=64, kind=\"off\", velocity=127, time_delta_secs=0),\n",
    "        Note(note=60, kind=\"on\", velocity=127, time_delta_secs=1),\n",
    "        Note(note=62, kind=\"on\", velocity=127, time_delta_secs=0),\n",
    "        Note(note=64, kind=\"on\", velocity=127, time_delta_secs=0),\n",
    "    ],\n",
    "    program_nums=[],\n",
    ")\n",
    "\n",
    "notes = inference.run_inference(\n",
    "    model,\n",
    "    prompt=channel,\n",
    "    max_new_tokens=512,\n",
    "    temperature=0.1,\n",
    ")\n",
    "channel.notes.extend(notes)"
   ]
  },
  {
   "cell_type": "code",
   "execution_count": 35,
   "metadata": {},
   "outputs": [
    {
     "name": "stderr",
     "output_type": "stream",
     "text": [
      "\u001b[32m2023-07-18 20:27:59.079\u001b[0m | \u001b[1mINFO    \u001b[0m | \u001b[36myoshimidi.player\u001b[0m:\u001b[36mplay\u001b[0m:\u001b[36m12\u001b[0m - \u001b[1mPlaying /var/folders/7w/66fh_d3s5hb0br9f7wtqww1h0000gn/T/tmp98s3y0oj\u001b[0m\n",
      "\u001b[32m2023-07-18 20:28:47.634\u001b[0m | \u001b[1mINFO    \u001b[0m | \u001b[36myoshimidi.player\u001b[0m:\u001b[36mplay\u001b[0m:\u001b[36m17\u001b[0m - \u001b[1mFinished playing\u001b[0m\n"
     ]
    }
   ],
   "source": [
    "player.play_channel(channel)"
   ]
  }
 ],
 "metadata": {
  "kernelspec": {
   "display_name": ".venv",
   "language": "python",
   "name": "python3"
  },
  "language_info": {
   "codemirror_mode": {
    "name": "ipython",
    "version": 3
   },
   "file_extension": ".py",
   "mimetype": "text/x-python",
   "name": "python",
   "nbconvert_exporter": "python",
   "pygments_lexer": "ipython3",
   "version": "3.10.11"
  },
  "orig_nbformat": 4
 },
 "nbformat": 4,
 "nbformat_minor": 2
}
