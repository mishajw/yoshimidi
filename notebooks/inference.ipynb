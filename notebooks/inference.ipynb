{
 "cells": [
  {
   "cell_type": "code",
   "execution_count": null,
   "metadata": {},
   "outputs": [],
   "source": [
    "import torch\n",
    "\n",
    "from yoshimidi import inference, player\n",
    "from yoshimidi.data.parse.tracks import Channel, Note\n",
    "from yoshimidi.output_config import OutputConfig\n",
    "from yoshimidi.train import checkpoints\n",
    "from yoshimidi.train.transformer import Transformer\n",
    "from yoshimidi.train.transformer_config import TransformerConfig"
   ]
  },
  {
   "cell_type": "code",
   "execution_count": null,
   "metadata": {},
   "outputs": [],
   "source": [
    "model = Transformer(\n",
    "    TransformerConfig(\n",
    "        num_layers=3,\n",
    "        residual_stream_size=128,\n",
    "        num_attention_heads=4,\n",
    "    )\n",
    ")\n",
    "optimizer = torch.optim.Adam(model.parameters())\n",
    "model, optimizer = checkpoints.load_checkpoint(\n",
    "    \"2023-07-31_test\",\n",
    "    step=\"latest\",\n",
    "    model=model,\n",
    "    optimizer=optimizer,\n",
    "    output_config=OutputConfig(checkpoints=\"../out/checkpoints\"),\n",
    ")"
   ]
  },
  {
   "cell_type": "code",
   "execution_count": null,
   "metadata": {},
   "outputs": [],
   "source": [
    "channel = Channel(\n",
    "    notes=[\n",
    "        Note(note=60, kind=\"on\", velocity=127, time_delta_secs=0),\n",
    "        Note(note=62, kind=\"on\", velocity=127, time_delta_secs=0),\n",
    "        Note(note=64, kind=\"on\", velocity=127, time_delta_secs=1),\n",
    "        Note(note=60, kind=\"off\", velocity=127, time_delta_secs=0),\n",
    "        Note(note=62, kind=\"off\", velocity=127, time_delta_secs=0),\n",
    "        Note(note=64, kind=\"off\", velocity=127, time_delta_secs=1),\n",
    "        Note(note=60, kind=\"on\", velocity=127, time_delta_secs=0),\n",
    "        Note(note=62, kind=\"on\", velocity=127, time_delta_secs=0),\n",
    "        Note(note=64, kind=\"on\", velocity=127, time_delta_secs=1),\n",
    "        Note(note=60, kind=\"off\", velocity=127, time_delta_secs=0),\n",
    "        Note(note=62, kind=\"off\", velocity=127, time_delta_secs=0),\n",
    "        Note(note=64, kind=\"off\", velocity=127, time_delta_secs=1),\n",
    "        Note(note=60, kind=\"on\", velocity=127, time_delta_secs=0),\n",
    "        Note(note=62, kind=\"on\", velocity=127, time_delta_secs=0),\n",
    "        Note(note=64, kind=\"on\", velocity=127, time_delta_secs=1),\n",
    "    ],\n",
    "    program_nums=[],\n",
    ")\n",
    "\n",
    "notes = inference.run_inference(\n",
    "    model,\n",
    "    prompt=channel,\n",
    "    max_new_tokens=512,\n",
    "    temperature=0.1,\n",
    ")\n",
    "channel.notes.extend(notes)"
   ]
  },
  {
   "cell_type": "code",
   "execution_count": null,
   "metadata": {},
   "outputs": [],
   "source": [
    "player.play_channel(channel)"
   ]
  }
 ],
 "metadata": {
  "kernelspec": {
   "display_name": ".venv",
   "language": "python",
   "name": "python3"
  },
  "language_info": {
   "codemirror_mode": {
    "name": "ipython",
    "version": 3
   },
   "file_extension": ".py",
   "mimetype": "text/x-python",
   "name": "python",
   "nbconvert_exporter": "python",
   "pygments_lexer": "ipython3",
   "version": "3.10.11"
  },
  "orig_nbformat": 4
 },
 "nbformat": 4,
 "nbformat_minor": 2
}
