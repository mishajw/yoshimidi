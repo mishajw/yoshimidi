{
 "cells": [
  {
   "cell_type": "code",
   "execution_count": null,
   "metadata": {},
   "outputs": [],
   "source": [
    "import torch\n",
    "\n",
    "from yoshimidi import inference, player\n",
    "from yoshimidi.data.parse.tracks import Channel, Note\n",
    "from yoshimidi.output_config import OutputConfig\n",
    "from yoshimidi.train import checkpoints\n",
    "from yoshimidi.train.transformer import Transformer\n",
    "from yoshimidi.train.transformer_config import TransformerConfig"
   ]
  },
  {
   "cell_type": "code",
   "execution_count": 20,
   "metadata": {},
   "outputs": [
    {
     "name": "stderr",
     "output_type": "stream",
     "text": [
      "\u001b[32m2023-07-31 17:17:55.024\u001b[0m | \u001b[1mINFO    \u001b[0m | \u001b[36myoshimidi.train.checkpoints\u001b[0m:\u001b[36mload_checkpoint\u001b[0m:\u001b[36m48\u001b[0m - \u001b[1mLoading checkpoint: ../out/checkpoints/2023-07-31_v3_big_lr4/step_001000.pt\u001b[0m\n"
     ]
    }
   ],
   "source": [
    "model = Transformer(\n",
    "    TransformerConfig(\n",
    "        num_layers=6,\n",
    "        residual_stream_size=512,\n",
    "        num_attention_heads=16,\n",
    "    )\n",
    ")\n",
    "optimizer = torch.optim.Adam(model.parameters())\n",
    "model, optimizer = checkpoints.load_checkpoint(\n",
    "    \"2023-07-31_v3_big_lr4\",\n",
    "    step=\"latest\",\n",
    "    model=model,\n",
    "    optimizer=optimizer,\n",
    "    output_config=OutputConfig(checkpoints=\"../out/checkpoints\"),\n",
    "    device=torch.device(\"cpu\"),\n",
    ")"
   ]
  },
  {
   "cell_type": "code",
   "execution_count": 21,
   "metadata": {},
   "outputs": [
    {
     "ename": "TypeError",
     "evalue": "run_inference() missing 2 required positional arguments: 'device' and 'dtype'",
     "output_type": "error",
     "traceback": [
      "\u001b[0;31m---------------------------------------------------------------------------\u001b[0m",
      "\u001b[0;31mTypeError\u001b[0m                                 Traceback (most recent call last)",
      "Cell \u001b[0;32mIn[21], line 28\u001b[0m\n\u001b[1;32m      1\u001b[0m channel \u001b[39m=\u001b[39m Channel(\n\u001b[1;32m      2\u001b[0m     notes\u001b[39m=\u001b[39m[\n\u001b[1;32m      3\u001b[0m         Note(note\u001b[39m=\u001b[39m\u001b[39m60\u001b[39m, kind\u001b[39m=\u001b[39m\u001b[39m\"\u001b[39m\u001b[39mon\u001b[39m\u001b[39m\"\u001b[39m, velocity\u001b[39m=\u001b[39m\u001b[39m127\u001b[39m, time_delta_secs\u001b[39m=\u001b[39m\u001b[39m0\u001b[39m),\n\u001b[0;32m   (...)\u001b[0m\n\u001b[1;32m     19\u001b[0m     program_nums\u001b[39m=\u001b[39m[],\n\u001b[1;32m     20\u001b[0m )\n\u001b[1;32m     22\u001b[0m notes \u001b[39m=\u001b[39m inference\u001b[39m.\u001b[39mrun_inference(\n\u001b[1;32m     23\u001b[0m     model,\n\u001b[1;32m     24\u001b[0m     prompt\u001b[39m=\u001b[39mchannel,\n\u001b[1;32m     25\u001b[0m     max_new_tokens\u001b[39m=\u001b[39m\u001b[39m512\u001b[39m,\n\u001b[1;32m     26\u001b[0m     temperature\u001b[39m=\u001b[39m\u001b[39m0.1\u001b[39m,\n\u001b[1;32m     27\u001b[0m )\n\u001b[0;32m---> 28\u001b[0m channel\u001b[39m.\u001b[39;49mnotes\u001b[39m.\u001b[39;49mextend(notes)\n",
      "File \u001b[0;32m~/src/yoshimidi/.venv/lib/python3.10/site-packages/torch/utils/_contextlib.py:26\u001b[0m, in \u001b[0;36m_wrap_generator.<locals>.generator_context\u001b[0;34m(*args, **kwargs)\u001b[0m\n\u001b[1;32m     24\u001b[0m \u001b[39m@functools\u001b[39m\u001b[39m.\u001b[39mwraps(func)\n\u001b[1;32m     25\u001b[0m \u001b[39mdef\u001b[39;00m \u001b[39mgenerator_context\u001b[39m(\u001b[39m*\u001b[39margs, \u001b[39m*\u001b[39m\u001b[39m*\u001b[39mkwargs):\n\u001b[0;32m---> 26\u001b[0m     gen \u001b[39m=\u001b[39m func(\u001b[39m*\u001b[39;49margs, \u001b[39m*\u001b[39;49m\u001b[39m*\u001b[39;49mkwargs)\n\u001b[1;32m     28\u001b[0m     \u001b[39m# Generators are suspended and unsuspended at `yield`, hence we\u001b[39;00m\n\u001b[1;32m     29\u001b[0m     \u001b[39m# make sure the grad mode is properly set every time the execution\u001b[39;00m\n\u001b[1;32m     30\u001b[0m     \u001b[39m# flow returns into the wrapped generator and restored when it\u001b[39;00m\n\u001b[1;32m     31\u001b[0m     \u001b[39m# returns through our `yield` to our caller (see PR #49017).\u001b[39;00m\n\u001b[1;32m     32\u001b[0m     \u001b[39mtry\u001b[39;00m:\n\u001b[1;32m     33\u001b[0m         \u001b[39m# Issuing `None` to a generator fires it up\u001b[39;00m\n",
      "\u001b[0;31mTypeError\u001b[0m: run_inference() missing 2 required positional arguments: 'device' and 'dtype'"
     ]
    }
   ],
   "source": [
    "channel = Channel(\n",
    "    notes=[\n",
    "        Note(note=60, kind=\"on\", velocity=127, time_delta_secs=0),\n",
    "        Note(note=62, kind=\"on\", velocity=127, time_delta_secs=0),\n",
    "        Note(note=64, kind=\"on\", velocity=127, time_delta_secs=1),\n",
    "        Note(note=60, kind=\"off\", velocity=127, time_delta_secs=0),\n",
    "        Note(note=62, kind=\"off\", velocity=127, time_delta_secs=0),\n",
    "        Note(note=64, kind=\"off\", velocity=127, time_delta_secs=1),\n",
    "        Note(note=60, kind=\"on\", velocity=127, time_delta_secs=0),\n",
    "        Note(note=62, kind=\"on\", velocity=127, time_delta_secs=0),\n",
    "        Note(note=64, kind=\"on\", velocity=127, time_delta_secs=1),\n",
    "        Note(note=60, kind=\"off\", velocity=127, time_delta_secs=0),\n",
    "        Note(note=62, kind=\"off\", velocity=127, time_delta_secs=0),\n",
    "        Note(note=64, kind=\"off\", velocity=127, time_delta_secs=1),\n",
    "        Note(note=60, kind=\"on\", velocity=127, time_delta_secs=0),\n",
    "        Note(note=62, kind=\"on\", velocity=127, time_delta_secs=0),\n",
    "        Note(note=64, kind=\"on\", velocity=127, time_delta_secs=1),\n",
    "    ],\n",
    "    program_nums=[],\n",
    ")\n",
    "\n",
    "notes = inference.run_inference(\n",
    "    model,\n",
    "    prompt=channel,\n",
    "    max_new_tokens=512,\n",
    "    temperature=0.1,\n",
    "    device=torch.device(\"cpu\"),\n",
    "    dtype=torch.float32,\n",
    ")\n",
    "channel.notes.extend(notes)"
   ]
  },
  {
   "cell_type": "code",
   "execution_count": null,
   "metadata": {},
   "outputs": [],
   "source": [
    "player.play_channel(channel)"
   ]
  }
 ],
 "metadata": {
  "kernelspec": {
   "display_name": ".venv",
   "language": "python",
   "name": "python3"
  },
  "language_info": {
   "codemirror_mode": {
    "name": "ipython",
    "version": 3
   },
   "file_extension": ".py",
   "mimetype": "text/x-python",
   "name": "python",
   "nbconvert_exporter": "python",
   "pygments_lexer": "ipython3",
   "version": "3.10.11"
  },
  "orig_nbformat": 4
 },
 "nbformat": 4,
 "nbformat_minor": 2
}
