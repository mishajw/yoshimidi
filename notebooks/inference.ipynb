{
 "cells": [
  {
   "cell_type": "code",
   "execution_count": 1,
   "metadata": {},
   "outputs": [
    {
     "name": "stdout",
     "output_type": "stream",
     "text": [
      "pygame 2.5.0 (SDL 2.28.0, Python 3.10.11)\n",
      "Hello from the pygame community. https://www.pygame.org/contribute.html\n"
     ]
    }
   ],
   "source": [
    "import torch\n",
    "\n",
    "from yoshimidi import inference, player\n",
    "from yoshimidi.data.parse.tracks import Channel, Note\n",
    "from yoshimidi.output_config import OutputConfig\n",
    "from yoshimidi.train import checkpoints\n",
    "from yoshimidi.train.transformer import Transformer\n",
    "from yoshimidi.train.transformer_config import TransformerConfig"
   ]
  },
  {
   "cell_type": "code",
   "execution_count": 2,
   "metadata": {},
   "outputs": [
    {
     "name": "stderr",
     "output_type": "stream",
     "text": [
      "\u001b[32m2023-08-02 09:32:40.451\u001b[0m | \u001b[1mINFO    \u001b[0m | \u001b[36myoshimidi.train.checkpoints\u001b[0m:\u001b[36mload_checkpoint\u001b[0m:\u001b[36m48\u001b[0m - \u001b[1mLoading checkpoint: ../out/checkpoints/2023-08-01_v2_moresups_untiedembs/step_020500.pt\u001b[0m\n"
     ]
    }
   ],
   "source": [
    "model = Transformer(\n",
    "    TransformerConfig(\n",
    "        num_layers=6,\n",
    "        residual_stream_size=512,\n",
    "        num_attention_heads=16,\n",
    "        context_window=1024,\n",
    "    )\n",
    ")\n",
    "optimizer = torch.optim.Adam(model.parameters())\n",
    "model, optimizer = checkpoints.load_checkpoint(\n",
    "    \"2023-08-01_v2_moresups_untiedembs\",\n",
    "    step=\"latest\",\n",
    "    model=model,\n",
    "    optimizer=optimizer,\n",
    "    output_config=OutputConfig(checkpoints=\"../out/checkpoints\"),\n",
    "    device=torch.device(\"cpu\"),\n",
    ")"
   ]
  },
  {
   "cell_type": "code",
   "execution_count": 23,
   "metadata": {},
   "outputs": [
    {
     "name": "stderr",
     "output_type": "stream",
     "text": [
      "Generating tokens: 0it [00:00, ?it/s]"
     ]
    },
    {
     "name": "stderr",
     "output_type": "stream",
     "text": [
      "Generating tokens: 511it [00:29, 17.11it/s]\n"
     ]
    }
   ],
   "source": [
    "channel = Channel(\n",
    "    notes=[\n",
    "        Note(note=60, kind=\"on\", velocity=127, time_delta_secs=0),\n",
    "        Note(note=62, kind=\"on\", velocity=127, time_delta_secs=0),\n",
    "        Note(note=64, kind=\"on\", velocity=127, time_delta_secs=0.2),\n",
    "        Note(note=60, kind=\"off\", velocity=127, time_delta_secs=0),\n",
    "        Note(note=62, kind=\"off\", velocity=127, time_delta_secs=0),\n",
    "        Note(note=64, kind=\"off\", velocity=127, time_delta_secs=0.2),\n",
    "        Note(note=61, kind=\"on\", velocity=127, time_delta_secs=0),\n",
    "        Note(note=63, kind=\"on\", velocity=127, time_delta_secs=0),\n",
    "        Note(note=65, kind=\"on\", velocity=127, time_delta_secs=0.2),\n",
    "        Note(note=60, kind=\"off\", velocity=127, time_delta_secs=0),\n",
    "        Note(note=62, kind=\"off\", velocity=127, time_delta_secs=0),\n",
    "        Note(note=64, kind=\"off\", velocity=127, time_delta_secs=0.2),\n",
    "        Note(note=62, kind=\"on\", velocity=127, time_delta_secs=0),\n",
    "        Note(note=64, kind=\"on\", velocity=127, time_delta_secs=0),\n",
    "        Note(note=66, kind=\"on\", velocity=127, time_delta_secs=0.2),\n",
    "    ],\n",
    "    program_nums=[],\n",
    ")\n",
    "\n",
    "notes = inference.run_inference(\n",
    "    model,\n",
    "    prompt=channel,\n",
    "    max_new_tokens=512,\n",
    "    temperature=0.5,\n",
    "    device=torch.device(\"cpu\"),\n",
    "    dtype=torch.float32,\n",
    ")\n",
    "channel.notes.extend(notes)"
   ]
  },
  {
   "cell_type": "code",
   "execution_count": 25,
   "metadata": {},
   "outputs": [
    {
     "name": "stderr",
     "output_type": "stream",
     "text": [
      "\u001b[32m2023-08-02 11:17:02.058\u001b[0m | \u001b[1mINFO    \u001b[0m | \u001b[36myoshimidi.player\u001b[0m:\u001b[36mplay\u001b[0m:\u001b[36m12\u001b[0m - \u001b[1mPlaying /var/folders/7w/66fh_d3s5hb0br9f7wtqww1h0000gn/T/tmpw7ikk6od\u001b[0m\n"
     ]
    },
    {
     "name": "stderr",
     "output_type": "stream",
     "text": [
      "\u001b[32m2023-08-02 11:17:06.726\u001b[0m | \u001b[1mINFO    \u001b[0m | \u001b[36myoshimidi.player\u001b[0m:\u001b[36mplay\u001b[0m:\u001b[36m17\u001b[0m - \u001b[1mFinished playing\u001b[0m\n"
     ]
    }
   ],
   "source": [
    "player.play_channel(channel)"
   ]
  }
 ],
 "metadata": {
  "kernelspec": {
   "display_name": ".venv",
   "language": "python",
   "name": "python3"
  },
  "language_info": {
   "codemirror_mode": {
    "name": "ipython",
    "version": 3
   },
   "file_extension": ".py",
   "mimetype": "text/x-python",
   "name": "python",
   "nbconvert_exporter": "python",
   "pygments_lexer": "ipython3",
   "version": "3.10.11"
  },
  "orig_nbformat": 4
 },
 "nbformat": 4,
 "nbformat_minor": 2
}
