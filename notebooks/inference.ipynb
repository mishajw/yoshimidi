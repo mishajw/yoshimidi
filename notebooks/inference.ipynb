{
 "cells": [
  {
   "cell_type": "code",
   "execution_count": 25,
   "metadata": {},
   "outputs": [],
   "source": [
    "import torch\n",
    "\n",
    "from yoshimidi import inference, player\n",
    "from yoshimidi.data.parse.tracks import Channel, Note\n",
    "from yoshimidi.output_config import OutputConfig\n",
    "from yoshimidi.train import checkpoints\n",
    "from yoshimidi.train.transformer import Transformer\n",
    "from yoshimidi.train.transformer_config import TransformerConfig"
   ]
  },
  {
   "cell_type": "code",
   "execution_count": 26,
   "metadata": {},
   "outputs": [
    {
     "name": "stderr",
     "output_type": "stream",
     "text": [
      "\u001b[32m2023-07-17 22:29:20.438\u001b[0m | \u001b[1mINFO    \u001b[0m | \u001b[36myoshimidi.train.checkpoints\u001b[0m:\u001b[36mload_checkpoint\u001b[0m:\u001b[36m55\u001b[0m - \u001b[1mLoading checkpoint: ../out/checkpoints/2023-07-17_v1_support/step_000100.pt\u001b[0m\n"
     ]
    }
   ],
   "source": [
    "\n",
    "model = Transformer(\n",
    "    TransformerConfig(\n",
    "        num_layers=3,\n",
    "        residual_stream_size=128,\n",
    "        num_attention_heads=4,\n",
    "    )\n",
    ")\n",
    "optimizer = torch.optim.Adam(model.parameters())\n",
    "model, optimizer = checkpoints.load_checkpoint(\n",
    "    # \"2023-07-16_v3_posenc\",\n",
    "    \"2023-07-17_v1_support\",\n",
    "    step=\"latest\",\n",
    "    model=model,\n",
    "    optimizer=optimizer,\n",
    "    output_config=OutputConfig(checkpoints=\"../out/checkpoints\"),\n",
    ")"
   ]
  },
  {
   "cell_type": "code",
   "execution_count": 27,
   "metadata": {},
   "outputs": [
    {
     "name": "stderr",
     "output_type": "stream",
     "text": [
      "Generating tokens: 0it [00:00, ?it/s]/Users/misha/src/yoshimidi/yoshimidi/inference.py:35: UserWarning: Implicit dimension choice for softmax has been deprecated. Change the call to include dim=X as an argument.\n",
      "  time_support = torch.nn.functional.softmax(activations[lower:upper]).numpy()\n",
      "Generating tokens: 129it [00:01, 96.69it/s]\n"
     ]
    },
    {
     "ename": "AssertionError",
     "evalue": "",
     "output_type": "error",
     "traceback": [
      "\u001b[0;31m---------------------------------------------------------------------------\u001b[0m",
      "\u001b[0;31mAssertionError\u001b[0m                            Traceback (most recent call last)",
      "Cell \u001b[0;32mIn[27], line 27\u001b[0m\n\u001b[1;32m      1\u001b[0m channel \u001b[39m=\u001b[39m Channel(\n\u001b[1;32m      2\u001b[0m     notes\u001b[39m=\u001b[39m[\n\u001b[1;32m      3\u001b[0m         Note(note\u001b[39m=\u001b[39m\u001b[39m60\u001b[39m, kind\u001b[39m=\u001b[39m\u001b[39m\"\u001b[39m\u001b[39mon\u001b[39m\u001b[39m\"\u001b[39m, velocity\u001b[39m=\u001b[39m\u001b[39m127\u001b[39m, time_delta_secs\u001b[39m=\u001b[39m\u001b[39m1\u001b[39m),\n\u001b[0;32m   (...)\u001b[0m\n\u001b[1;32m     19\u001b[0m     program_nums\u001b[39m=\u001b[39m[],\n\u001b[1;32m     20\u001b[0m )\n\u001b[1;32m     22\u001b[0m notes \u001b[39m=\u001b[39m inference\u001b[39m.\u001b[39mrun_inference(\n\u001b[1;32m     23\u001b[0m     model,\n\u001b[1;32m     24\u001b[0m     prompt\u001b[39m=\u001b[39mchannel,\n\u001b[1;32m     25\u001b[0m     max_new_tokens\u001b[39m=\u001b[39m\u001b[39m500\u001b[39m,\n\u001b[1;32m     26\u001b[0m )\n\u001b[0;32m---> 27\u001b[0m channel\u001b[39m.\u001b[39;49mnotes\u001b[39m.\u001b[39;49mextend(notes)\n",
      "File \u001b[0;32m~/src/yoshimidi/.venv/lib/python3.10/site-packages/torch/utils/_contextlib.py:56\u001b[0m, in \u001b[0;36m_wrap_generator.<locals>.generator_context\u001b[0;34m(*args, **kwargs)\u001b[0m\n\u001b[1;32m     53\u001b[0m         \u001b[39melse\u001b[39;00m:\n\u001b[1;32m     54\u001b[0m             \u001b[39m# Pass the last request to the generator and get its response\u001b[39;00m\n\u001b[1;32m     55\u001b[0m             \u001b[39mwith\u001b[39;00m ctx_factory():\n\u001b[0;32m---> 56\u001b[0m                 response \u001b[39m=\u001b[39m gen\u001b[39m.\u001b[39;49msend(request)\n\u001b[1;32m     58\u001b[0m \u001b[39m# We let the exceptions raised above by the generator's `.throw` or\u001b[39;00m\n\u001b[1;32m     59\u001b[0m \u001b[39m# `.send` methods bubble up to our caller, except for StopIteration\u001b[39;00m\n\u001b[1;32m     60\u001b[0m \u001b[39mexcept\u001b[39;00m \u001b[39mStopIteration\u001b[39;00m \u001b[39mas\u001b[39;00m e:\n\u001b[1;32m     61\u001b[0m     \u001b[39m# The generator informed us that it is done: take whatever its\u001b[39;00m\n\u001b[1;32m     62\u001b[0m     \u001b[39m# returned value (if any) was and indicate that we're done too\u001b[39;00m\n\u001b[1;32m     63\u001b[0m     \u001b[39m# by returning it (see docs for python's return-statement).\u001b[39;00m\n",
      "File \u001b[0;32m~/src/yoshimidi/yoshimidi/inference.py:32\u001b[0m, in \u001b[0;36mrun_inference\u001b[0;34m(model, prompt, max_new_tokens)\u001b[0m\n\u001b[1;32m     29\u001b[0m kind \u001b[39m=\u001b[39m token_format\u001b[39m.\u001b[39mKINDS[_sample(activations[lower:upper])]\n\u001b[1;32m     31\u001b[0m \u001b[39mif\u001b[39;00m kind \u001b[39m==\u001b[39m \u001b[39m\"\u001b[39m\u001b[39mpause\u001b[39m\u001b[39m\"\u001b[39m:\n\u001b[0;32m---> 32\u001b[0m     \u001b[39massert\u001b[39;00m current_time_delta_secs \u001b[39mis\u001b[39;00m \u001b[39mNone\u001b[39;00m\n\u001b[1;32m     33\u001b[0m     lower, upper \u001b[39m=\u001b[39m token_format\u001b[39m.\u001b[39mpiece_range(\u001b[39m\"\u001b[39m\u001b[39mtime\u001b[39m\u001b[39m\"\u001b[39m)\n\u001b[1;32m     34\u001b[0m     \u001b[39m# current_time_delta_secs = max(0, activations[lower].item())\u001b[39;00m\n",
      "\u001b[0;31mAssertionError\u001b[0m: "
     ]
    }
   ],
   "source": [
    "\n",
    "channel = Channel(\n",
    "    notes=[\n",
    "        Note(note=60, kind=\"on\", velocity=127, time_delta_secs=1),\n",
    "        Note(note=62, kind=\"on\", velocity=127, time_delta_secs=0),\n",
    "        Note(note=63, kind=\"on\", velocity=127, time_delta_secs=0),\n",
    "        Note(note=60, kind=\"off\", velocity=127, time_delta_secs=1),\n",
    "        Note(note=62, kind=\"off\", velocity=127, time_delta_secs=0),\n",
    "        Note(note=63, kind=\"off\", velocity=127, time_delta_secs=0),\n",
    "        Note(note=60, kind=\"on\", velocity=127, time_delta_secs=1),\n",
    "        Note(note=62, kind=\"on\", velocity=127, time_delta_secs=0),\n",
    "        Note(note=63, kind=\"on\", velocity=127, time_delta_secs=0),\n",
    "        Note(note=60, kind=\"off\", velocity=127, time_delta_secs=1),\n",
    "        Note(note=62, kind=\"off\", velocity=127, time_delta_secs=0),\n",
    "        Note(note=63, kind=\"off\", velocity=127, time_delta_secs=0),\n",
    "        Note(note=60, kind=\"on\", velocity=127, time_delta_secs=1),\n",
    "        Note(note=62, kind=\"on\", velocity=127, time_delta_secs=0),\n",
    "        Note(note=63, kind=\"on\", velocity=127, time_delta_secs=0),\n",
    "    ],\n",
    "    program_nums=[],\n",
    ")\n",
    "\n",
    "notes = inference.run_inference(\n",
    "    model,\n",
    "    prompt=channel,\n",
    "    max_new_tokens=500,\n",
    ")\n",
    "channel.notes.extend(notes)"
   ]
  },
  {
   "cell_type": "code",
   "execution_count": 30,
   "metadata": {},
   "outputs": [
    {
     "name": "stdout",
     "output_type": "stream",
     "text": [
      "[Note(note=60, kind='on', velocity=127, time_delta_secs=1), Note(note=62, kind='on', velocity=127, time_delta_secs=0), Note(note=63, kind='on', velocity=127, time_delta_secs=0), Note(note=60, kind='off', velocity=127, time_delta_secs=1), Note(note=62, kind='off', velocity=127, time_delta_secs=0), Note(note=63, kind='off', velocity=127, time_delta_secs=0), Note(note=60, kind='on', velocity=127, time_delta_secs=1), Note(note=62, kind='on', velocity=127, time_delta_secs=0), Note(note=63, kind='on', velocity=127, time_delta_secs=0), Note(note=60, kind='off', velocity=127, time_delta_secs=1), Note(note=62, kind='off', velocity=127, time_delta_secs=0), Note(note=63, kind='off', velocity=127, time_delta_secs=0), Note(note=60, kind='on', velocity=127, time_delta_secs=1), Note(note=62, kind='on', velocity=127, time_delta_secs=0), Note(note=63, kind='on', velocity=127, time_delta_secs=0), Note(note=67, kind='on', velocity=127, time_delta_secs=24.897241991682677), Note(note=66, kind='off', velocity=127, time_delta_secs=24.93551258306252), Note(note=71, kind='on', velocity=127, time_delta_secs=24.785582217067713), Note(note=54, kind='on', velocity=127, time_delta_secs=24.961634865787346), Note(note=52, kind='off', velocity=127, time_delta_secs=24.916012325207703), Note(note=65, kind='off', velocity=127, time_delta_secs=24.741503838304197), Note(note=53, kind='on', velocity=127, time_delta_secs=24.85287960531423), Note(note=61, kind='off', velocity=127, time_delta_secs=24.90741240346688), Note(note=82, kind='off', velocity=127, time_delta_secs=24.872202887723688), Note(note=55, kind='off', velocity=127, time_delta_secs=24.85228343185736), Note(note=60, kind='off', velocity=127, time_delta_secs=24.858515687083127), Note(note=61, kind='off', velocity=127, time_delta_secs=24.82727410827647), Note(note=66, kind='on', velocity=127, time_delta_secs=24.873871030809823), Note(note=67, kind='off', velocity=127, time_delta_secs=24.960602970793843), Note(note=52, kind='on', velocity=127, time_delta_secs=24.87081355205737), Note(note=74, kind='off', velocity=127, time_delta_secs=24.914891906868434), Note(note=54, kind='off', velocity=127, time_delta_secs=24.825657330278773), Note(note=47, kind='off', velocity=127, time_delta_secs=24.829875710682245), Note(note=69, kind='off', velocity=127, time_delta_secs=24.94815417198697), Note(note=55, kind='off', velocity=127, time_delta_secs=24.893992433790118), Note(note=76, kind='on', velocity=127, time_delta_secs=24.87582925215247), Note(note=55, kind='off', velocity=127, time_delta_secs=24.98449354036711), Note(note=60, kind='on', velocity=127, time_delta_secs=24.878654268191895), Note(note=72, kind='on', velocity=127, time_delta_secs=24.923812856170116), Note(note=59, kind='on', velocity=127, time_delta_secs=24.948975093022455), Note(note=49, kind='off', velocity=127, time_delta_secs=24.958229837560793), Note(note=82, kind='off', velocity=127, time_delta_secs=24.889363566151587), Note(note=44, kind='on', velocity=127, time_delta_secs=24.870658179424936), Note(note=61, kind='off', velocity=127, time_delta_secs=24.991396552330116), Note(note=50, kind='off', velocity=127, time_delta_secs=24.892262073000893), Note(note=84, kind='on', velocity=127, time_delta_secs=24.802996147744125), Note(note=47, kind='off', velocity=127, time_delta_secs=24.92382983310381), Note(note=74, kind='on', velocity=127, time_delta_secs=24.940990437258733), Note(note=61, kind='off', velocity=127, time_delta_secs=24.92618368100375), Note(note=60, kind='off', velocity=127, time_delta_secs=24.867141363676637), Note(note=57, kind='off', velocity=127, time_delta_secs=24.835579110338585), Note(note=64, kind='on', velocity=127, time_delta_secs=24.85350410931278), Note(note=54, kind='on', velocity=127, time_delta_secs=24.958959258918185), Note(note=60, kind='on', velocity=127, time_delta_secs=24.93757469742559), Note(note=55, kind='on', velocity=127, time_delta_secs=24.915723272541072), Note(note=49, kind='off', velocity=127, time_delta_secs=24.949796460889047), Note(note=64, kind='off', velocity=127, time_delta_secs=24.8926360772748), Note(note=69, kind='off', velocity=127, time_delta_secs=24.822624543478014), Note(note=38, kind='off', velocity=127, time_delta_secs=24.894326623994857), Note(note=70, kind='on', velocity=127, time_delta_secs=24.92684441813617), Note(note=80, kind='off', velocity=127, time_delta_secs=24.972929498238955), Note(note=57, kind='on', velocity=127, time_delta_secs=24.897163959249156), Note(note=77, kind='off', velocity=127, time_delta_secs=24.949345757777337), Note(note=58, kind='on', velocity=127, time_delta_secs=24.891355754400138), Note(note=37, kind='off', velocity=127, time_delta_secs=24.94285956019303), Note(note=55, kind='on', velocity=127, time_delta_secs=24.95368809669162), Note(note=48, kind='off', velocity=127, time_delta_secs=24.95307620704989), Note(note=24, kind='on', velocity=127, time_delta_secs=24.828449624357745), Note(note=63, kind='off', velocity=127, time_delta_secs=24.91074937756639), Note(note=72, kind='off', velocity=127, time_delta_secs=24.8527940948552), Note(note=68, kind='on', velocity=127, time_delta_secs=24.84936351957731), Note(note=62, kind='off', velocity=127, time_delta_secs=24.965900747600244), Note(note=54, kind='off', velocity=127, time_delta_secs=24.845701057405677), Note(note=65, kind='on', velocity=127, time_delta_secs=24.840833059337456), Note(note=40, kind='on', velocity=127, time_delta_secs=24.950685474963393), Note(note=45, kind='off', velocity=127, time_delta_secs=24.979166123317555), Note(note=36, kind='off', velocity=127, time_delta_secs=24.983587640250335), Note(note=52, kind='off', velocity=127, time_delta_secs=24.923622476228047), Note(note=31, kind='on', velocity=127, time_delta_secs=24.76327058277093)]\n"
     ]
    }
   ],
   "source": [
    "channel.notes\n",
    "# player.play_channel(channel)"
   ]
  }
 ],
 "metadata": {
  "kernelspec": {
   "display_name": ".venv",
   "language": "python",
   "name": "python3"
  },
  "language_info": {
   "codemirror_mode": {
    "name": "ipython",
    "version": 3
   },
   "file_extension": ".py",
   "mimetype": "text/x-python",
   "name": "python",
   "nbconvert_exporter": "python",
   "pygments_lexer": "ipython3",
   "version": "3.10.11"
  },
  "orig_nbformat": 4
 },
 "nbformat": 4,
 "nbformat_minor": 2
}
