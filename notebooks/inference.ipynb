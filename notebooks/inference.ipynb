{
 "cells": [
  {
   "cell_type": "code",
   "execution_count": 3,
   "metadata": {},
   "outputs": [
    {
     "name": "stdout",
     "output_type": "stream",
     "text": [
      "pygame 2.5.0 (SDL 2.28.0, Python 3.10.11)\n",
      "Hello from the pygame community. https://www.pygame.org/contribute.html\n"
     ]
    }
   ],
   "source": [
    "import torch\n",
    "\n",
    "from yoshimidi import inference, player\n",
    "from yoshimidi.data.parse.tracks import Channel, Note\n",
    "from yoshimidi.output_config import OutputConfig\n",
    "from yoshimidi.train import checkpoints\n",
    "from yoshimidi.train.transformer import Transformer\n",
    "from yoshimidi.train.transformer_config import TransformerConfig"
   ]
  },
  {
   "cell_type": "code",
   "execution_count": 4,
   "metadata": {},
   "outputs": [
    {
     "name": "stderr",
     "output_type": "stream",
     "text": [
      "\u001b[32m2023-08-03 17:18:55.613\u001b[0m | \u001b[1mINFO    \u001b[0m | \u001b[36myoshimidi.train.checkpoints\u001b[0m:\u001b[36mload_checkpoint\u001b[0m:\u001b[36m48\u001b[0m - \u001b[1mLoading checkpoint: ../out/checkpoints/2023-08-03_v1/step_005500.pt\u001b[0m\n"
     ]
    }
   ],
   "source": [
    "model = Transformer(\n",
    "    TransformerConfig(\n",
    "        num_layers=6,\n",
    "        residual_stream_size=512,\n",
    "        num_attention_heads=16,\n",
    "        context_window=1024,\n",
    "    )\n",
    ")\n",
    "optimizer = torch.optim.Adam(model.parameters())\n",
    "model, optimizer = checkpoints.load_checkpoint(\n",
    "    \"2023-08-03_v1\",\n",
    "    step=\"latest\",\n",
    "    model=model,\n",
    "    optimizer=optimizer,\n",
    "    output_config=OutputConfig(checkpoints=\"../out/checkpoints\"),\n",
    "    device=torch.device(\"cpu\"),\n",
    ")"
   ]
  },
  {
   "cell_type": "code",
   "execution_count": 12,
   "metadata": {},
   "outputs": [
    {
     "name": "stderr",
     "output_type": "stream",
     "text": [
      "Generating tokens: 6it [00:00, 53.15it/s]"
     ]
    },
    {
     "name": "stdout",
     "output_type": "stream",
     "text": [
      "off\n",
      "off\n",
      "off\n",
      "pause\n",
      "on\n",
      "on\n",
      "on\n",
      "on\n",
      "on\n",
      "on\n",
      "off\n"
     ]
    },
    {
     "name": "stderr",
     "output_type": "stream",
     "text": [
      "Generating tokens: 18it [00:00, 54.68it/s]"
     ]
    },
    {
     "name": "stdout",
     "output_type": "stream",
     "text": [
      "off\n",
      "on\n",
      "on\n",
      "on\n",
      "on\n",
      "off\n",
      "off\n",
      "on\n",
      "on\n",
      "on\n",
      "on\n",
      "on\n"
     ]
    },
    {
     "name": "stderr",
     "output_type": "stream",
     "text": [
      "Generating tokens: 30it [00:00, 53.43it/s]"
     ]
    },
    {
     "name": "stdout",
     "output_type": "stream",
     "text": [
      "on\n",
      "on\n",
      "on\n",
      "pause\n",
      "off\n",
      "off\n",
      "on\n",
      "on\n",
      "on\n",
      "on\n",
      "on\n"
     ]
    },
    {
     "name": "stderr",
     "output_type": "stream",
     "text": [
      "Generating tokens: 42it [00:00, 50.94it/s]"
     ]
    },
    {
     "name": "stdout",
     "output_type": "stream",
     "text": [
      "on\n",
      "on\n",
      "on\n",
      "on\n",
      "pause\n",
      "off\n",
      "on\n",
      "on\n",
      "on\n",
      "on\n"
     ]
    },
    {
     "name": "stderr",
     "output_type": "stream",
     "text": [
      "Generating tokens: 53it [00:01, 47.19it/s]"
     ]
    },
    {
     "name": "stdout",
     "output_type": "stream",
     "text": [
      "on\n",
      "on\n",
      "on\n",
      "on\n",
      "pause\n",
      "off\n",
      "on\n",
      "on\n",
      "on\n"
     ]
    },
    {
     "name": "stderr",
     "output_type": "stream",
     "text": [
      "Generating tokens: 58it [00:01, 45.11it/s]"
     ]
    },
    {
     "name": "stdout",
     "output_type": "stream",
     "text": [
      "on\n",
      "on\n",
      "on\n",
      "on\n",
      "on\n",
      "on\n",
      "on\n",
      "on\n"
     ]
    },
    {
     "name": "stderr",
     "output_type": "stream",
     "text": [
      "Generating tokens: 68it [00:01, 40.92it/s]"
     ]
    },
    {
     "name": "stdout",
     "output_type": "stream",
     "text": [
      "on\n",
      "on\n",
      "on\n",
      "on\n",
      "on\n",
      "on\n",
      "on\n",
      "on\n"
     ]
    },
    {
     "name": "stderr",
     "output_type": "stream",
     "text": [
      "Generating tokens: 73it [00:01, 39.96it/s]"
     ]
    },
    {
     "name": "stdout",
     "output_type": "stream",
     "text": [
      "on\n",
      "on\n",
      "on\n",
      "on\n",
      "on\n",
      "on\n",
      "on\n",
      "on\n"
     ]
    },
    {
     "name": "stderr",
     "output_type": "stream",
     "text": [
      "Generating tokens: 82it [00:01, 37.52it/s]"
     ]
    },
    {
     "name": "stdout",
     "output_type": "stream",
     "text": [
      "on\n",
      "on\n",
      "on\n",
      "on\n",
      "on\n",
      "on\n",
      "on\n"
     ]
    },
    {
     "name": "stderr",
     "output_type": "stream",
     "text": [
      "Generating tokens: 90it [00:02, 36.53it/s]"
     ]
    },
    {
     "name": "stdout",
     "output_type": "stream",
     "text": [
      "on\n",
      "on\n",
      "on\n",
      "on\n",
      "on\n",
      "on\n",
      "on\n",
      "on\n"
     ]
    },
    {
     "name": "stderr",
     "output_type": "stream",
     "text": [
      "Generating tokens: 98it [00:02, 35.18it/s]"
     ]
    },
    {
     "name": "stdout",
     "output_type": "stream",
     "text": [
      "on\n",
      "on\n",
      "on\n",
      "on\n",
      "on\n",
      "on\n",
      "on\n"
     ]
    },
    {
     "name": "stderr",
     "output_type": "stream",
     "text": [
      "Generating tokens: 106it [00:02, 34.39it/s]"
     ]
    },
    {
     "name": "stdout",
     "output_type": "stream",
     "text": [
      "on\n",
      "on\n",
      "on\n",
      "on\n",
      "on\n",
      "on\n",
      "on\n"
     ]
    },
    {
     "name": "stderr",
     "output_type": "stream",
     "text": [
      "Generating tokens: 110it [00:02, 33.50it/s]"
     ]
    },
    {
     "name": "stdout",
     "output_type": "stream",
     "text": [
      "on\n",
      "on\n",
      "on\n",
      "on\n",
      "on\n",
      "on\n",
      "on\n"
     ]
    },
    {
     "name": "stderr",
     "output_type": "stream",
     "text": [
      "Generating tokens: 118it [00:02, 31.71it/s]"
     ]
    },
    {
     "name": "stdout",
     "output_type": "stream",
     "text": [
      "on\n",
      "on\n",
      "on\n",
      "on\n",
      "on\n",
      "on\n",
      "on\n"
     ]
    },
    {
     "name": "stderr",
     "output_type": "stream",
     "text": [
      "Generating tokens: 126it [00:03, 30.71it/s]"
     ]
    },
    {
     "name": "stdout",
     "output_type": "stream",
     "text": [
      "on\n",
      "on\n",
      "on\n",
      "on\n",
      "on\n",
      "on\n"
     ]
    },
    {
     "name": "stderr",
     "output_type": "stream",
     "text": [
      "Generating tokens: 127it [00:03, 38.90it/s]"
     ]
    },
    {
     "name": "stdout",
     "output_type": "stream",
     "text": [
      "on\n",
      "on\n"
     ]
    },
    {
     "name": "stderr",
     "output_type": "stream",
     "text": [
      "\n"
     ]
    }
   ],
   "source": [
    "channel = Channel(\n",
    "    notes=[\n",
    "        Note(note=60, kind=\"on\", velocity=127, time_delta_secs=0),\n",
    "        Note(note=62, kind=\"on\", velocity=127, time_delta_secs=0),\n",
    "        Note(note=64, kind=\"on\", velocity=127, time_delta_secs=0.2),\n",
    "        Note(note=60, kind=\"off\", velocity=127, time_delta_secs=0),\n",
    "        Note(note=62, kind=\"off\", velocity=127, time_delta_secs=0),\n",
    "        Note(note=64, kind=\"off\", velocity=127, time_delta_secs=0.2),\n",
    "        Note(note=61, kind=\"on\", velocity=127, time_delta_secs=0),\n",
    "        Note(note=63, kind=\"on\", velocity=127, time_delta_secs=0),\n",
    "        Note(note=65, kind=\"on\", velocity=127, time_delta_secs=0.2),\n",
    "        Note(note=60, kind=\"off\", velocity=127, time_delta_secs=0),\n",
    "        Note(note=62, kind=\"off\", velocity=127, time_delta_secs=0),\n",
    "        Note(note=64, kind=\"off\", velocity=127, time_delta_secs=0.2),\n",
    "        Note(note=62, kind=\"on\", velocity=127, time_delta_secs=0),\n",
    "        Note(note=64, kind=\"on\", velocity=127, time_delta_secs=0),\n",
    "        Note(note=66, kind=\"on\", velocity=127, time_delta_secs=0.2),\n",
    "    ],\n",
    "    program_nums=[],\n",
    ")\n",
    "\n",
    "notes = inference.run_inference(\n",
    "    model,\n",
    "    prompt=channel,\n",
    "    max_new_tokens=128,\n",
    "    temperature=0.1,\n",
    "    device=torch.device(\"cpu\"),\n",
    "    dtype=torch.float32,\n",
    ")\n",
    "channel.notes.extend(notes)"
   ]
  },
  {
   "cell_type": "code",
   "execution_count": 10,
   "metadata": {},
   "outputs": [
    {
     "name": "stderr",
     "output_type": "stream",
     "text": [
      "\u001b[32m2023-08-03 17:22:31.987\u001b[0m | \u001b[1mINFO    \u001b[0m | \u001b[36myoshimidi.player\u001b[0m:\u001b[36mplay\u001b[0m:\u001b[36m12\u001b[0m - \u001b[1mPlaying /var/folders/7w/66fh_d3s5hb0br9f7wtqww1h0000gn/T/tmp4sb7uftm\u001b[0m\n",
      "\u001b[32m2023-08-03 17:22:33.038\u001b[0m | \u001b[1mINFO    \u001b[0m | \u001b[36myoshimidi.player\u001b[0m:\u001b[36mplay\u001b[0m:\u001b[36m17\u001b[0m - \u001b[1mFinished playing\u001b[0m\n"
     ]
    }
   ],
   "source": [
    "player.play_channel(channel)"
   ]
  },
  {
   "cell_type": "code",
   "execution_count": 11,
   "metadata": {},
   "outputs": [
    {
     "data": {
      "text/plain": [
       "[Note(note=60, kind='on', velocity=127, time_delta_secs=0),\n",
       " Note(note=62, kind='on', velocity=127, time_delta_secs=0),\n",
       " Note(note=64, kind='on', velocity=127, time_delta_secs=0.2),\n",
       " Note(note=60, kind='off', velocity=127, time_delta_secs=0),\n",
       " Note(note=62, kind='off', velocity=127, time_delta_secs=0),\n",
       " Note(note=64, kind='off', velocity=127, time_delta_secs=0.2),\n",
       " Note(note=61, kind='on', velocity=127, time_delta_secs=0),\n",
       " Note(note=63, kind='on', velocity=127, time_delta_secs=0),\n",
       " Note(note=65, kind='on', velocity=127, time_delta_secs=0.2),\n",
       " Note(note=60, kind='off', velocity=127, time_delta_secs=0),\n",
       " Note(note=62, kind='off', velocity=127, time_delta_secs=0),\n",
       " Note(note=64, kind='off', velocity=127, time_delta_secs=0.2),\n",
       " Note(note=62, kind='on', velocity=127, time_delta_secs=0),\n",
       " Note(note=64, kind='on', velocity=127, time_delta_secs=0),\n",
       " Note(note=66, kind='on', velocity=127, time_delta_secs=0.2),\n",
       " Note(note=0, kind='off', velocity=127, time_delta_secs=0),\n",
       " Note(note=0, kind='off', velocity=127, time_delta_secs=0),\n",
       " Note(note=0, kind='off', velocity=127, time_delta_secs=0),\n",
       " Note(note=0, kind='off', velocity=127, time_delta_secs=0),\n",
       " Note(note=0, kind='off', velocity=127, time_delta_secs=0.0),\n",
       " Note(note=0, kind='off', velocity=127, time_delta_secs=0.0),\n",
       " Note(note=0, kind='off', velocity=127, time_delta_secs=0.0),\n",
       " Note(note=0, kind='on', velocity=127, time_delta_secs=0),\n",
       " Note(note=0, kind='on', velocity=127, time_delta_secs=0),\n",
       " Note(note=0, kind='on', velocity=127, time_delta_secs=0),\n",
       " Note(note=0, kind='on', velocity=127, time_delta_secs=0),\n",
       " Note(note=0, kind='on', velocity=127, time_delta_secs=0),\n",
       " Note(note=0, kind='on', velocity=127, time_delta_secs=0),\n",
       " Note(note=0, kind='on', velocity=127, time_delta_secs=0),\n",
       " Note(note=0, kind='on', velocity=127, time_delta_secs=0),\n",
       " Note(note=0, kind='on', velocity=127, time_delta_secs=0),\n",
       " Note(note=0, kind='on', velocity=127, time_delta_secs=0),\n",
       " Note(note=0, kind='on', velocity=127, time_delta_secs=0),\n",
       " Note(note=0, kind='on', velocity=127, time_delta_secs=0),\n",
       " Note(note=0, kind='on', velocity=127, time_delta_secs=0.0),\n",
       " Note(note=0, kind='on', velocity=127, time_delta_secs=0.0),\n",
       " Note(note=0, kind='on', velocity=127, time_delta_secs=0.0),\n",
       " Note(note=0, kind='off', velocity=127, time_delta_secs=0),\n",
       " Note(note=0, kind='off', velocity=127, time_delta_secs=0),\n",
       " Note(note=0, kind='off', velocity=127, time_delta_secs=0.0),\n",
       " Note(note=0, kind='off', velocity=127, time_delta_secs=0.0),\n",
       " Note(note=0, kind='off', velocity=127, time_delta_secs=0.0),\n",
       " Note(note=0, kind='on', velocity=127, time_delta_secs=0),\n",
       " Note(note=0, kind='on', velocity=127, time_delta_secs=0),\n",
       " Note(note=0, kind='on', velocity=127, time_delta_secs=0),\n",
       " Note(note=0, kind='on', velocity=127, time_delta_secs=0),\n",
       " Note(note=0, kind='on', velocity=127, time_delta_secs=0),\n",
       " Note(note=0, kind='on', velocity=127, time_delta_secs=0),\n",
       " Note(note=0, kind='on', velocity=127, time_delta_secs=0),\n",
       " Note(note=0, kind='on', velocity=127, time_delta_secs=0),\n",
       " Note(note=0, kind='on', velocity=127, time_delta_secs=0),\n",
       " Note(note=0, kind='on', velocity=127, time_delta_secs=0),\n",
       " Note(note=0, kind='on', velocity=127, time_delta_secs=0.0),\n",
       " Note(note=0, kind='on', velocity=127, time_delta_secs=0.0),\n",
       " Note(note=0, kind='on', velocity=127, time_delta_secs=0.0),\n",
       " Note(note=0, kind='off', velocity=127, time_delta_secs=0.0),\n",
       " Note(note=0, kind='off', velocity=127, time_delta_secs=0.0),\n",
       " Note(note=0, kind='off', velocity=127, time_delta_secs=0.0),\n",
       " Note(note=0, kind='on', velocity=127, time_delta_secs=0),\n",
       " Note(note=0, kind='on', velocity=127, time_delta_secs=0),\n",
       " Note(note=0, kind='on', velocity=127, time_delta_secs=0),\n",
       " Note(note=0, kind='on', velocity=127, time_delta_secs=0),\n",
       " Note(note=0, kind='on', velocity=127, time_delta_secs=0),\n",
       " Note(note=0, kind='on', velocity=127, time_delta_secs=0),\n",
       " Note(note=0, kind='on', velocity=127, time_delta_secs=0.0),\n",
       " Note(note=0, kind='on', velocity=127, time_delta_secs=0.0),\n",
       " Note(note=0, kind='on', velocity=127, time_delta_secs=0.0),\n",
       " Note(note=0, kind='off', velocity=127, time_delta_secs=0),\n",
       " Note(note=0, kind='off', velocity=127, time_delta_secs=0),\n",
       " Note(note=0, kind='on', velocity=127, time_delta_secs=0),\n",
       " Note(note=0, kind='on', velocity=127, time_delta_secs=0),\n",
       " Note(note=0, kind='on', velocity=127, time_delta_secs=0),\n",
       " Note(note=0, kind='on', velocity=127, time_delta_secs=0),\n",
       " Note(note=0, kind='on', velocity=127, time_delta_secs=0),\n",
       " Note(note=0, kind='on', velocity=127, time_delta_secs=0),\n",
       " Note(note=0, kind='on', velocity=127, time_delta_secs=0),\n",
       " Note(note=0, kind='on', velocity=127, time_delta_secs=0),\n",
       " Note(note=0, kind='on', velocity=127, time_delta_secs=0.0),\n",
       " Note(note=0, kind='on', velocity=127, time_delta_secs=0.0),\n",
       " Note(note=0, kind='on', velocity=127, time_delta_secs=0.0),\n",
       " Note(note=0, kind='off', velocity=127, time_delta_secs=0),\n",
       " Note(note=0, kind='off', velocity=127, time_delta_secs=0),\n",
       " Note(note=0, kind='on', velocity=127, time_delta_secs=0),\n",
       " Note(note=0, kind='on', velocity=127, time_delta_secs=0),\n",
       " Note(note=0, kind='on', velocity=127, time_delta_secs=0),\n",
       " Note(note=0, kind='on', velocity=127, time_delta_secs=0),\n",
       " Note(note=0, kind='on', velocity=127, time_delta_secs=0),\n",
       " Note(note=0, kind='on', velocity=127, time_delta_secs=0),\n",
       " Note(note=0, kind='on', velocity=127, time_delta_secs=0),\n",
       " Note(note=0, kind='on', velocity=127, time_delta_secs=0),\n",
       " Note(note=0, kind='on', velocity=127, time_delta_secs=0.0),\n",
       " Note(note=0, kind='on', velocity=127, time_delta_secs=0.0),\n",
       " Note(note=0, kind='on', velocity=127, time_delta_secs=0.0),\n",
       " Note(note=0, kind='off', velocity=127, time_delta_secs=0),\n",
       " Note(note=0, kind='off', velocity=127, time_delta_secs=0),\n",
       " Note(note=0, kind='on', velocity=127, time_delta_secs=0),\n",
       " Note(note=0, kind='on', velocity=127, time_delta_secs=0),\n",
       " Note(note=0, kind='on', velocity=127, time_delta_secs=0),\n",
       " Note(note=0, kind='on', velocity=127, time_delta_secs=0),\n",
       " Note(note=0, kind='on', velocity=127, time_delta_secs=0),\n",
       " Note(note=0, kind='on', velocity=127, time_delta_secs=0),\n",
       " Note(note=0, kind='on', velocity=127, time_delta_secs=0),\n",
       " Note(note=0, kind='on', velocity=127, time_delta_secs=0),\n",
       " Note(note=0, kind='on', velocity=127, time_delta_secs=0),\n",
       " Note(note=0, kind='on', velocity=127, time_delta_secs=0),\n",
       " Note(note=0, kind='on', velocity=127, time_delta_secs=0.0),\n",
       " Note(note=0, kind='on', velocity=127, time_delta_secs=0.0),\n",
       " Note(note=0, kind='on', velocity=127, time_delta_secs=0.0),\n",
       " Note(note=0, kind='off', velocity=127, time_delta_secs=0),\n",
       " Note(note=0, kind='off', velocity=127, time_delta_secs=0),\n",
       " Note(note=0, kind='on', velocity=127, time_delta_secs=0),\n",
       " Note(note=0, kind='on', velocity=127, time_delta_secs=0),\n",
       " Note(note=0, kind='on', velocity=127, time_delta_secs=0),\n",
       " Note(note=0, kind='on', velocity=127, time_delta_secs=0),\n",
       " Note(note=0, kind='on', velocity=127, time_delta_secs=0),\n",
       " Note(note=0, kind='on', velocity=127, time_delta_secs=0),\n",
       " Note(note=0, kind='on', velocity=127, time_delta_secs=0),\n",
       " Note(note=0, kind='on', velocity=127, time_delta_secs=0),\n",
       " Note(note=0, kind='on', velocity=127, time_delta_secs=0.0),\n",
       " Note(note=0, kind='on', velocity=127, time_delta_secs=0.0),\n",
       " Note(note=0, kind='on', velocity=127, time_delta_secs=0.0),\n",
       " Note(note=0, kind='on', velocity=127, time_delta_secs=0),\n",
       " Note(note=0, kind='on', velocity=127, time_delta_secs=0),\n",
       " Note(note=0, kind='on', velocity=127, time_delta_secs=0),\n",
       " Note(note=0, kind='on', velocity=127, time_delta_secs=0),\n",
       " Note(note=0, kind='on', velocity=127, time_delta_secs=0),\n",
       " Note(note=0, kind='on', velocity=127, time_delta_secs=0),\n",
       " Note(note=0, kind='on', velocity=127, time_delta_secs=0.0),\n",
       " Note(note=0, kind='on', velocity=127, time_delta_secs=0.0),\n",
       " Note(note=0, kind='on', velocity=127, time_delta_secs=0.0),\n",
       " Note(note=0, kind='off', velocity=127, time_delta_secs=0),\n",
       " Note(note=0, kind='off', velocity=127, time_delta_secs=0),\n",
       " Note(note=0, kind='on', velocity=127, time_delta_secs=0),\n",
       " Note(note=0, kind='on', velocity=127, time_delta_secs=0),\n",
       " Note(note=0, kind='on', velocity=127, time_delta_secs=0),\n",
       " Note(note=0, kind='on', velocity=127, time_delta_secs=0),\n",
       " Note(note=0, kind='on', velocity=127, time_delta_secs=0),\n",
       " Note(note=0, kind='on', velocity=127, time_delta_secs=0),\n",
       " Note(note=0, kind='on', velocity=127, time_delta_secs=0),\n",
       " Note(note=0, kind='on', velocity=127, time_delta_secs=0),\n",
       " Note(note=0, kind='on', velocity=127, time_delta_secs=0),\n",
       " Note(note=0, kind='on', velocity=127, time_delta_secs=0),\n",
       " Note(note=0, kind='on', velocity=127, time_delta_secs=0.0),\n",
       " Note(note=0, kind='on', velocity=127, time_delta_secs=0.0),\n",
       " Note(note=0, kind='on', velocity=127, time_delta_secs=0.0),\n",
       " Note(note=0, kind='on', velocity=127, time_delta_secs=0.0),\n",
       " Note(note=0, kind='on', velocity=127, time_delta_secs=0.0),\n",
       " Note(note=0, kind='on', velocity=127, time_delta_secs=0.0),\n",
       " Note(note=0, kind='off', velocity=127, time_delta_secs=0),\n",
       " Note(note=0, kind='off', velocity=127, time_delta_secs=0),\n",
       " Note(note=0, kind='on', velocity=127, time_delta_secs=0),\n",
       " Note(note=0, kind='on', velocity=127, time_delta_secs=0),\n",
       " Note(note=0, kind='on', velocity=127, time_delta_secs=0),\n",
       " Note(note=0, kind='on', velocity=127, time_delta_secs=0),\n",
       " Note(note=0, kind='on', velocity=127, time_delta_secs=0),\n",
       " Note(note=0, kind='on', velocity=127, time_delta_secs=0),\n",
       " Note(note=0, kind='on', velocity=127, time_delta_secs=0),\n",
       " Note(note=0, kind='on', velocity=127, time_delta_secs=0),\n",
       " Note(note=0, kind='on', velocity=127, time_delta_secs=0),\n",
       " Note(note=0, kind='on', velocity=127, time_delta_secs=0),\n",
       " Note(note=0, kind='on', velocity=127, time_delta_secs=0),\n",
       " Note(note=0, kind='on', velocity=127, time_delta_secs=0),\n",
       " Note(note=0, kind='on', velocity=127, time_delta_secs=0),\n",
       " Note(note=0, kind='on', velocity=127, time_delta_secs=0),\n",
       " Note(note=0, kind='on', velocity=127, time_delta_secs=0.0),\n",
       " Note(note=0, kind='on', velocity=127, time_delta_secs=0.0),\n",
       " Note(note=0, kind='on', velocity=127, time_delta_secs=0.0),\n",
       " Note(note=0, kind='on', velocity=127, time_delta_secs=0),\n",
       " Note(note=0, kind='on', velocity=127, time_delta_secs=0),\n",
       " Note(note=0, kind='on', velocity=127, time_delta_secs=0),\n",
       " Note(note=0, kind='on', velocity=127, time_delta_secs=0),\n",
       " Note(note=0, kind='on', velocity=127, time_delta_secs=0),\n",
       " Note(note=0, kind='on', velocity=127, time_delta_secs=0),\n",
       " Note(note=0, kind='on', velocity=127, time_delta_secs=0),\n",
       " Note(note=0, kind='on', velocity=127, time_delta_secs=0),\n",
       " Note(note=0, kind='on', velocity=127, time_delta_secs=0),\n",
       " Note(note=0, kind='on', velocity=127, time_delta_secs=0),\n",
       " Note(note=0, kind='on', velocity=127, time_delta_secs=0.0),\n",
       " Note(note=0, kind='on', velocity=127, time_delta_secs=0.0),\n",
       " Note(note=0, kind='on', velocity=127, time_delta_secs=0.0),\n",
       " Note(note=0, kind='off', velocity=127, time_delta_secs=0),\n",
       " Note(note=0, kind='off', velocity=127, time_delta_secs=0),\n",
       " Note(note=0, kind='on', velocity=127, time_delta_secs=0),\n",
       " Note(note=0, kind='on', velocity=127, time_delta_secs=0),\n",
       " Note(note=0, kind='on', velocity=127, time_delta_secs=0),\n",
       " Note(note=0, kind='on', velocity=127, time_delta_secs=0),\n",
       " Note(note=0, kind='on', velocity=127, time_delta_secs=0),\n",
       " Note(note=0, kind='on', velocity=127, time_delta_secs=0),\n",
       " Note(note=0, kind='on', velocity=127, time_delta_secs=0),\n",
       " Note(note=0, kind='on', velocity=127, time_delta_secs=0),\n",
       " Note(note=0, kind='on', velocity=127, time_delta_secs=0),\n",
       " Note(note=0, kind='on', velocity=127, time_delta_secs=0),\n",
       " Note(note=0, kind='on', velocity=127, time_delta_secs=0),\n",
       " Note(note=0, kind='on', velocity=127, time_delta_secs=0),\n",
       " Note(note=0, kind='on', velocity=127, time_delta_secs=0.0),\n",
       " Note(note=0, kind='on', velocity=127, time_delta_secs=0.0),\n",
       " Note(note=0, kind='on', velocity=127, time_delta_secs=0.0),\n",
       " Note(note=0, kind='off', velocity=127, time_delta_secs=0),\n",
       " Note(note=0, kind='off', velocity=127, time_delta_secs=0),\n",
       " Note(note=0, kind='on', velocity=127, time_delta_secs=0),\n",
       " Note(note=0, kind='on', velocity=127, time_delta_secs=0),\n",
       " Note(note=0, kind='on', velocity=127, time_delta_secs=0),\n",
       " Note(note=0, kind='on', velocity=127, time_delta_secs=0),\n",
       " Note(note=0, kind='on', velocity=127, time_delta_secs=0),\n",
       " Note(note=0, kind='on', velocity=127, time_delta_secs=0),\n",
       " Note(note=0, kind='on', velocity=127, time_delta_secs=0),\n",
       " Note(note=0, kind='on', velocity=127, time_delta_secs=0),\n",
       " Note(note=0, kind='on', velocity=127, time_delta_secs=0),\n",
       " Note(note=0, kind='on', velocity=127, time_delta_secs=0),\n",
       " Note(note=0, kind='on', velocity=127, time_delta_secs=0),\n",
       " Note(note=0, kind='on', velocity=127, time_delta_secs=0),\n",
       " Note(note=0, kind='on', velocity=127, time_delta_secs=0),\n",
       " Note(note=0, kind='on', velocity=127, time_delta_secs=0),\n",
       " Note(note=0, kind='on', velocity=127, time_delta_secs=0),\n",
       " Note(note=0, kind='on', velocity=127, time_delta_secs=0),\n",
       " Note(note=0, kind='on', velocity=127, time_delta_secs=0),\n",
       " Note(note=0, kind='on', velocity=127, time_delta_secs=0),\n",
       " Note(note=0, kind='on', velocity=127, time_delta_secs=0),\n",
       " Note(note=0, kind='on', velocity=127, time_delta_secs=0),\n",
       " Note(note=0, kind='on', velocity=127, time_delta_secs=0),\n",
       " Note(note=0, kind='on', velocity=127, time_delta_secs=0),\n",
       " Note(note=0, kind='on', velocity=127, time_delta_secs=0),\n",
       " Note(note=0, kind='on', velocity=127, time_delta_secs=0),\n",
       " Note(note=0, kind='on', velocity=127, time_delta_secs=0),\n",
       " Note(note=0, kind='on', velocity=127, time_delta_secs=0),\n",
       " Note(note=0, kind='on', velocity=127, time_delta_secs=0),\n",
       " Note(note=0, kind='on', velocity=127, time_delta_secs=0),\n",
       " Note(note=0, kind='on', velocity=127, time_delta_secs=0),\n",
       " Note(note=0, kind='on', velocity=127, time_delta_secs=0),\n",
       " Note(note=0, kind='on', velocity=127, time_delta_secs=0),\n",
       " Note(note=0, kind='on', velocity=127, time_delta_secs=0),\n",
       " Note(note=0, kind='on', velocity=127, time_delta_secs=0),\n",
       " Note(note=0, kind='on', velocity=127, time_delta_secs=0),\n",
       " Note(note=0, kind='on', velocity=127, time_delta_secs=0),\n",
       " Note(note=0, kind='on', velocity=127, time_delta_secs=0),\n",
       " Note(note=0, kind='on', velocity=127, time_delta_secs=0),\n",
       " Note(note=0, kind='on', velocity=127, time_delta_secs=0),\n",
       " Note(note=0, kind='on', velocity=127, time_delta_secs=0),\n",
       " Note(note=0, kind='on', velocity=127, time_delta_secs=0),\n",
       " Note(note=0, kind='on', velocity=127, time_delta_secs=0),\n",
       " Note(note=0, kind='on', velocity=127, time_delta_secs=0),\n",
       " Note(note=0, kind='on', velocity=127, time_delta_secs=0),\n",
       " Note(note=0, kind='on', velocity=127, time_delta_secs=0),\n",
       " Note(note=0, kind='on', velocity=127, time_delta_secs=0),\n",
       " Note(note=0, kind='on', velocity=127, time_delta_secs=0),\n",
       " Note(note=0, kind='on', velocity=127, time_delta_secs=0),\n",
       " Note(note=0, kind='on', velocity=127, time_delta_secs=0),\n",
       " Note(note=0, kind='on', velocity=127, time_delta_secs=0),\n",
       " Note(note=0, kind='on', velocity=127, time_delta_secs=0),\n",
       " Note(note=0, kind='on', velocity=127, time_delta_secs=0),\n",
       " Note(note=0, kind='on', velocity=127, time_delta_secs=0),\n",
       " Note(note=0, kind='on', velocity=127, time_delta_secs=0),\n",
       " Note(note=0, kind='on', velocity=127, time_delta_secs=0),\n",
       " Note(note=0, kind='on', velocity=127, time_delta_secs=0)]"
      ]
     },
     "execution_count": 11,
     "metadata": {},
     "output_type": "execute_result"
    }
   ],
   "source": [
    "channel.notes"
   ]
  }
 ],
 "metadata": {
  "kernelspec": {
   "display_name": ".venv",
   "language": "python",
   "name": "python3"
  },
  "language_info": {
   "codemirror_mode": {
    "name": "ipython",
    "version": 3
   },
   "file_extension": ".py",
   "mimetype": "text/x-python",
   "name": "python",
   "nbconvert_exporter": "python",
   "pygments_lexer": "ipython3",
   "version": "3.10.11"
  },
  "orig_nbformat": 4
 },
 "nbformat": 4,
 "nbformat_minor": 2
}
