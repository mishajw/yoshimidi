{
 "cells": [
  {
   "cell_type": "code",
   "execution_count": 25,
   "metadata": {},
   "outputs": [],
   "source": [
    "import torch\n",
    "\n",
    "from yoshimidi import inference, player\n",
    "from yoshimidi.data.parse.tracks import Channel, Note\n",
    "from yoshimidi.output_config import OutputConfig\n",
    "from yoshimidi.train import checkpoints\n",
    "from yoshimidi.train.transformer import Transformer\n",
    "from yoshimidi.train.transformer_config import TransformerConfig"
   ]
  },
  {
   "cell_type": "code",
   "execution_count": 61,
   "metadata": {},
   "outputs": [
    {
     "name": "stderr",
     "output_type": "stream",
     "text": [
      "\u001b[32m2023-07-17 22:43:32.564\u001b[0m | \u001b[1mINFO    \u001b[0m | \u001b[36myoshimidi.train.checkpoints\u001b[0m:\u001b[36mload_checkpoint\u001b[0m:\u001b[36m55\u001b[0m - \u001b[1mLoading checkpoint: ../out/checkpoints/2023-07-17_v1_support/step_000400.pt\u001b[0m\n"
     ]
    }
   ],
   "source": [
    "model = Transformer(\n",
    "    TransformerConfig(\n",
    "        num_layers=3,\n",
    "        residual_stream_size=128,\n",
    "        num_attention_heads=4,\n",
    "    )\n",
    ")\n",
    "optimizer = torch.optim.Adam(model.parameters())\n",
    "model, optimizer = checkpoints.load_checkpoint(\n",
    "    # \"2023-07-16_v3_posenc\",\n",
    "    \"2023-07-17_v1_support\",\n",
    "    step=\"latest\",\n",
    "    model=model,\n",
    "    optimizer=optimizer,\n",
    "    output_config=OutputConfig(checkpoints=\"../out/checkpoints\"),\n",
    ")"
   ]
  },
  {
   "cell_type": "code",
   "execution_count": 62,
   "metadata": {},
   "outputs": [
    {
     "name": "stderr",
     "output_type": "stream",
     "text": [
      "Generating tokens: 0it [00:00, ?it/s]"
     ]
    },
    {
     "name": "stderr",
     "output_type": "stream",
     "text": [
      "Generating tokens: 428it [00:10, 42.68it/s]\n"
     ]
    },
    {
     "ename": "AssertionError",
     "evalue": "",
     "output_type": "error",
     "traceback": [
      "\u001b[0;31m---------------------------------------------------------------------------\u001b[0m",
      "\u001b[0;31mAssertionError\u001b[0m                            Traceback (most recent call last)",
      "Cell \u001b[0;32mIn[62], line 27\u001b[0m\n\u001b[1;32m      1\u001b[0m channel \u001b[39m=\u001b[39m Channel(\n\u001b[1;32m      2\u001b[0m     notes\u001b[39m=\u001b[39m[\n\u001b[1;32m      3\u001b[0m         Note(note\u001b[39m=\u001b[39m\u001b[39m60\u001b[39m, kind\u001b[39m=\u001b[39m\u001b[39m\"\u001b[39m\u001b[39mon\u001b[39m\u001b[39m\"\u001b[39m, velocity\u001b[39m=\u001b[39m\u001b[39m127\u001b[39m, time_delta_secs\u001b[39m=\u001b[39m\u001b[39m1\u001b[39m),\n\u001b[0;32m   (...)\u001b[0m\n\u001b[1;32m     19\u001b[0m     program_nums\u001b[39m=\u001b[39m[],\n\u001b[1;32m     20\u001b[0m )\n\u001b[1;32m     22\u001b[0m notes \u001b[39m=\u001b[39m inference\u001b[39m.\u001b[39mrun_inference(\n\u001b[1;32m     23\u001b[0m     model,\n\u001b[1;32m     24\u001b[0m     prompt\u001b[39m=\u001b[39mchannel,\n\u001b[1;32m     25\u001b[0m     max_new_tokens\u001b[39m=\u001b[39m\u001b[39m500\u001b[39m,\n\u001b[1;32m     26\u001b[0m )\n\u001b[0;32m---> 27\u001b[0m channel\u001b[39m.\u001b[39;49mnotes\u001b[39m.\u001b[39;49mextend(notes)\n",
      "File \u001b[0;32m~/src/yoshimidi/.venv/lib/python3.10/site-packages/torch/utils/_contextlib.py:56\u001b[0m, in \u001b[0;36m_wrap_generator.<locals>.generator_context\u001b[0;34m(*args, **kwargs)\u001b[0m\n\u001b[1;32m     53\u001b[0m         \u001b[39melse\u001b[39;00m:\n\u001b[1;32m     54\u001b[0m             \u001b[39m# Pass the last request to the generator and get its response\u001b[39;00m\n\u001b[1;32m     55\u001b[0m             \u001b[39mwith\u001b[39;00m ctx_factory():\n\u001b[0;32m---> 56\u001b[0m                 response \u001b[39m=\u001b[39m gen\u001b[39m.\u001b[39;49msend(request)\n\u001b[1;32m     58\u001b[0m \u001b[39m# We let the exceptions raised above by the generator's `.throw` or\u001b[39;00m\n\u001b[1;32m     59\u001b[0m \u001b[39m# `.send` methods bubble up to our caller, except for StopIteration\u001b[39;00m\n\u001b[1;32m     60\u001b[0m \u001b[39mexcept\u001b[39;00m \u001b[39mStopIteration\u001b[39;00m \u001b[39mas\u001b[39;00m e:\n\u001b[1;32m     61\u001b[0m     \u001b[39m# The generator informed us that it is done: take whatever its\u001b[39;00m\n\u001b[1;32m     62\u001b[0m     \u001b[39m# returned value (if any) was and indicate that we're done too\u001b[39;00m\n\u001b[1;32m     63\u001b[0m     \u001b[39m# by returning it (see docs for python's return-statement).\u001b[39;00m\n",
      "File \u001b[0;32m~/src/yoshimidi/yoshimidi/inference.py:41\u001b[0m, in \u001b[0;36mrun_inference\u001b[0;34m(model, prompt, max_new_tokens)\u001b[0m\n\u001b[1;32m     36\u001b[0m     next_token \u001b[39m=\u001b[39m token_parsing\u001b[39m.\u001b[39mcreate_torch_token(\n\u001b[1;32m     37\u001b[0m         \u001b[39m\"\u001b[39m\u001b[39mpause\u001b[39m\u001b[39m\"\u001b[39m, time\u001b[39m=\u001b[39mcurrent_time_delta_secs\n\u001b[1;32m     38\u001b[0m     )\n\u001b[1;32m     40\u001b[0m \u001b[39mif\u001b[39;00m kind \u001b[39m==\u001b[39m \u001b[39m\"\u001b[39m\u001b[39mon\u001b[39m\u001b[39m\"\u001b[39m \u001b[39mor\u001b[39;00m kind \u001b[39m==\u001b[39m \u001b[39m\"\u001b[39m\u001b[39moff\u001b[39m\u001b[39m\"\u001b[39m:\n\u001b[0;32m---> 41\u001b[0m     \u001b[39massert\u001b[39;00m current_time_delta_secs \u001b[39mis\u001b[39;00m \u001b[39mnot\u001b[39;00m \u001b[39mNone\u001b[39;00m\n\u001b[1;32m     42\u001b[0m     lower, upper \u001b[39m=\u001b[39m token_format\u001b[39m.\u001b[39mpiece_range(\u001b[39m\"\u001b[39m\u001b[39mnote_key\u001b[39m\u001b[39m\"\u001b[39m)\n\u001b[1;32m     43\u001b[0m     note_key \u001b[39m=\u001b[39m _sample(activations[lower:upper])\n",
      "\u001b[0;31mAssertionError\u001b[0m: "
     ]
    }
   ],
   "source": [
    "channel = Channel(\n",
    "    notes=[\n",
    "        Note(note=60, kind=\"on\", velocity=127, time_delta_secs=1),\n",
    "        Note(note=62, kind=\"on\", velocity=127, time_delta_secs=0),\n",
    "        Note(note=64, kind=\"on\", velocity=127, time_delta_secs=0),\n",
    "        Note(note=60, kind=\"off\", velocity=127, time_delta_secs=1),\n",
    "        Note(note=62, kind=\"off\", velocity=127, time_delta_secs=0),\n",
    "        Note(note=64, kind=\"off\", velocity=127, time_delta_secs=0),\n",
    "        Note(note=60, kind=\"on\", velocity=127, time_delta_secs=1),\n",
    "        Note(note=62, kind=\"on\", velocity=127, time_delta_secs=0),\n",
    "        Note(note=64, kind=\"on\", velocity=127, time_delta_secs=0),\n",
    "        Note(note=60, kind=\"off\", velocity=127, time_delta_secs=1),\n",
    "        Note(note=62, kind=\"off\", velocity=127, time_delta_secs=0),\n",
    "        Note(note=64, kind=\"off\", velocity=127, time_delta_secs=0),\n",
    "        Note(note=60, kind=\"on\", velocity=127, time_delta_secs=1),\n",
    "        Note(note=62, kind=\"on\", velocity=127, time_delta_secs=0),\n",
    "        Note(note=64, kind=\"on\", velocity=127, time_delta_secs=0),\n",
    "    ],\n",
    "    program_nums=[],\n",
    ")\n",
    "\n",
    "notes = inference.run_inference(\n",
    "    model,\n",
    "    prompt=channel,\n",
    "    max_new_tokens=500,\n",
    ")\n",
    "channel.notes.extend(notes)"
   ]
  },
  {
   "cell_type": "code",
   "execution_count": 63,
   "metadata": {},
   "outputs": [
    {
     "name": "stderr",
     "output_type": "stream",
     "text": [
      "\u001b[32m2023-07-17 22:44:00.317\u001b[0m | \u001b[1mINFO    \u001b[0m | \u001b[36myoshimidi.player\u001b[0m:\u001b[36mplay\u001b[0m:\u001b[36m12\u001b[0m - \u001b[1mPlaying /var/folders/7w/66fh_d3s5hb0br9f7wtqww1h0000gn/T/tmp1lkyv5xb\u001b[0m\n"
     ]
    }
   ],
   "source": [
    "player.play_channel(channel)"
   ]
  }
 ],
 "metadata": {
  "kernelspec": {
   "display_name": ".venv",
   "language": "python",
   "name": "python3"
  },
  "language_info": {
   "codemirror_mode": {
    "name": "ipython",
    "version": 3
   },
   "file_extension": ".py",
   "mimetype": "text/x-python",
   "name": "python",
   "nbconvert_exporter": "python",
   "pygments_lexer": "ipython3",
   "version": "3.10.11"
  },
  "orig_nbformat": 4
 },
 "nbformat": 4,
 "nbformat_minor": 2
}
