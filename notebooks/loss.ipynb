{
 "cells": [
  {
   "cell_type": "code",
   "execution_count": 27,
   "metadata": {},
   "outputs": [
    {
     "name": "stdout",
     "output_type": "stream",
     "text": [
      "torch.Size([1, 28]) torch.Size([1, 28])\n",
      "tensor([[[ 0.,  0.,  0., 10., 10.,  0.,  0.,  0.,  0.,  0.,  0.,  0.,  0.,  0.,\n",
      "           0.,  0., 10.,  0.,  0.,  0.,  0.,  0.,  0.,  0.,  0.,  0.,  0.,  5.]]])\n",
      "LossValues(loss=tensor(20.2511), kind_loss=tensor(0.0001), note_key_loss=tensor(0.0005), note_octave_loss=tensor(0.0005), time_loss=tensor(20.2500))\n"
     ]
    }
   ],
   "source": [
    "import torch\n",
    "\n",
    "from yoshimidi.data.token_format import VOCAB\n",
    "from yoshimidi.train.midi_loss import autoregressive_midi_loss\n",
    "\n",
    "logits = torch.randn((1, 1, VOCAB))\n",
    "logits = (\n",
    "    torch.tensor(\n",
    "        [\n",
    "            *[0, 0, 0, 1],\n",
    "            *[1, *([0] * 11)],\n",
    "            *[1, *([0] * 10)],\n",
    "            0.5,\n",
    "        ]\n",
    "    )\n",
    "    .unsqueeze(0)\n",
    "    .unsqueeze(0)\n",
    ")\n",
    "activations = logits\n",
    "loss = autoregressive_midi_loss(\n",
    "    batch=torch.cat([torch.zeros((1, 1, VOCAB)), logits], dim=1),\n",
    "    logits=torch.cat([activations, torch.zeros((1, 1, VOCAB))], dim=1),\n",
    ")\n",
    "print(activations)\n",
    "print(loss)"
   ]
  }
 ],
 "metadata": {
  "kernelspec": {
   "display_name": ".venv",
   "language": "python",
   "name": "python3"
  },
  "language_info": {
   "codemirror_mode": {
    "name": "ipython",
    "version": 3
   },
   "file_extension": ".py",
   "mimetype": "text/x-python",
   "name": "python",
   "nbconvert_exporter": "python",
   "pygments_lexer": "ipython3",
   "version": "3.10.11"
  },
  "orig_nbformat": 4
 },
 "nbformat": 4,
 "nbformat_minor": 2
}
