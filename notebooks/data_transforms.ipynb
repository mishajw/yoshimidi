{
 "cells": [
  {
   "cell_type": "code",
   "execution_count": null,
   "metadata": {},
   "outputs": [],
   "source": [
    "from pathlib import Path\n",
    "from pprint import pprint\n",
    "from tempfile import TemporaryDirectory\n",
    "from loguru import logger\n",
    "\n",
    "from mido import MidiFile\n",
    "\n",
    "from yoshimidi import player\n",
    "from yoshimidi.data import midi_parsing, token_parsing, track_parsing\n"
   ]
  },
  {
   "cell_type": "code",
   "execution_count": null,
   "metadata": {},
   "outputs": [],
   "source": [
    "PATH_INDEX = 18\n",
    "TRACK_INDEX = 2\n",
    "CHANNEL_INDEX = None\n",
    "\n",
    "midi_path = list(Path(\"../out/dataset/dataset_raw/lmd_full/\").rglob(\"*.mid\"))[PATH_INDEX]\n",
    "player.play(midi_path)\n",
    "\n",
    "midi_file = MidiFile(midi_path)\n",
    "logger.info(f\"num tracks: {len(midi_file.tracks)}\")\n",
    "logger.info(f\"track num messages: {[len(track) for track in midi_file.tracks]}\")\n",
    "midi_track = midi_file.tracks[TRACK_INDEX]\n",
    "ym_track = track_parsing.from_midi(midi_track, ticks_per_beat=midi_file.ticks_per_beat)\n",
    "assert ym_track is not None\n",
    "ym_tokens = [token_parsing.from_channel(channel) for channel in ym_track.channels.values()]\n",
    "if CHANNEL_INDEX is not None:\n",
    "    ym_tokens = [ym_tokens[CHANNEL_INDEX]]\n",
    "\n",
    "ym_track_recons = track_parsing.from_tokens(ym_tokens)\n",
    "midi_file_recons = midi_parsing.from_tracks([ym_track_recons])\n",
    "\n",
    "with TemporaryDirectory() as temp:\n",
    "    midi_path_recons = Path(temp) / \"recons.mid\"\n",
    "    midi_file_recons.save(midi_path_recons)\n",
    "    player.play(midi_path_recons)"
   ]
  }
 ],
 "metadata": {
  "kernelspec": {
   "display_name": ".venv",
   "language": "python",
   "name": "python3"
  },
  "language_info": {
   "codemirror_mode": {
    "name": "ipython",
    "version": 3
   },
   "file_extension": ".py",
   "mimetype": "text/x-python",
   "name": "python",
   "nbconvert_exporter": "python",
   "pygments_lexer": "ipython3",
   "version": "3.10.11"
  },
  "orig_nbformat": 4
 },
 "nbformat": 4,
 "nbformat_minor": 2
}
