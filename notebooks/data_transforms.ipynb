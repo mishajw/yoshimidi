{
 "cells": [
  {
   "cell_type": "code",
   "execution_count": 1,
   "metadata": {},
   "outputs": [
    {
     "name": "stdout",
     "output_type": "stream",
     "text": [
      "pygame 2.5.0 (SDL 2.28.0, Python 3.10.11)\n",
      "Hello from the pygame community. https://www.pygame.org/contribute.html\n"
     ]
    }
   ],
   "source": [
    "from pathlib import Path\n",
    "from tempfile import TemporaryDirectory\n",
    "\n",
    "import torch\n",
    "from loguru import logger\n",
    "from mido import MidiFile\n",
    "\n",
    "from yoshimidi import player\n",
    "from yoshimidi.data.parse import midi_parsing, one_hot_parsing, token_parsing, track_parsing"
   ]
  },
  {
   "cell_type": "code",
   "execution_count": 32,
   "metadata": {},
   "outputs": [],
   "source": [
    "PATH_INDEX = 1\n",
    "TRACK_INDEX = 11\n",
    "# PATH_INDEX = 2\n",
    "# TRACK_INDEX = 0\n",
    "CHANNEL_INDEX = None\n",
    "midi_path = list(Path(\"../out/dataset/01_raw/lmd_full/\").rglob(\"*.mid\"))[PATH_INDEX]"
   ]
  },
  {
   "cell_type": "code",
   "execution_count": 34,
   "metadata": {},
   "outputs": [
    {
     "name": "stderr",
     "output_type": "stream",
     "text": [
      "\u001b[32m2023-08-02 12:19:36.506\u001b[0m | \u001b[1mINFO    \u001b[0m | \u001b[36myoshimidi.player\u001b[0m:\u001b[36mplay\u001b[0m:\u001b[36m12\u001b[0m - \u001b[1mPlaying ../out/dataset/01_raw/lmd_full/9/94078e08bc697e5ec566640c527de726.mid\u001b[0m\n"
     ]
    },
    {
     "name": "stderr",
     "output_type": "stream",
     "text": [
      "\u001b[32m2023-08-02 12:19:42.533\u001b[0m | \u001b[1mINFO    \u001b[0m | \u001b[36myoshimidi.player\u001b[0m:\u001b[36mplay\u001b[0m:\u001b[36m19\u001b[0m - \u001b[1mFinishing due to interrupt\u001b[0m\n"
     ]
    }
   ],
   "source": [
    "player.play(midi_path)"
   ]
  },
  {
   "cell_type": "code",
   "execution_count": 35,
   "metadata": {},
   "outputs": [
    {
     "name": "stderr",
     "output_type": "stream",
     "text": [
      "\u001b[32m2023-08-02 12:19:43.687\u001b[0m | \u001b[1mINFO    \u001b[0m | \u001b[36m__main__\u001b[0m:\u001b[36m<module>\u001b[0m:\u001b[36m2\u001b[0m - \u001b[1mnum tracks: 1\u001b[0m\n",
      "\u001b[32m2023-08-02 12:19:43.688\u001b[0m | \u001b[1mINFO    \u001b[0m | \u001b[36m__main__\u001b[0m:\u001b[36m<module>\u001b[0m:\u001b[36m3\u001b[0m - \u001b[1mtrack num messages: [2832]\u001b[0m\n",
      "\u001b[32m2023-08-02 12:19:43.743\u001b[0m | \u001b[1mINFO    \u001b[0m | \u001b[36myoshimidi.player\u001b[0m:\u001b[36mplay\u001b[0m:\u001b[36m12\u001b[0m - \u001b[1mPlaying /var/folders/7w/66fh_d3s5hb0br9f7wtqww1h0000gn/T/tmpt5mmqbzv/recons.mid\u001b[0m\n",
      "\u001b[32m2023-08-02 12:19:51.086\u001b[0m | \u001b[1mINFO    \u001b[0m | \u001b[36myoshimidi.player\u001b[0m:\u001b[36mplay\u001b[0m:\u001b[36m19\u001b[0m - \u001b[1mFinishing due to interrupt\u001b[0m\n"
     ]
    }
   ],
   "source": [
    "midi_file = MidiFile(midi_path)\n",
    "logger.info(f\"num tracks: {len(midi_file.tracks)}\")\n",
    "logger.info(f\"track num messages: {[len(track) for track in midi_file.tracks]}\")\n",
    "midi_track = midi_file.tracks[TRACK_INDEX]\n",
    "tempo = track_parsing.parse_tempo(midi_file)\n",
    "ym_track = track_parsing.from_midi(midi_track, ticks_per_beat=midi_file.ticks_per_beat, tempo=tempo)\n",
    "assert ym_track is not None\n",
    "ym_tokens = [token_parsing.from_channel(channel) for channel in ym_track.channels.values()]\n",
    "if CHANNEL_INDEX is not None:\n",
    "    ym_tokens = [ym_tokens[CHANNEL_INDEX]]\n",
    "ym_one_hot = one_hot_parsing.from_tokens(ym_tokens[0], device=torch.device(\"cpu\"), dtype=torch.float32)\n",
    "\n",
    "ym_track_recons = track_parsing.from_tokens(ym_tokens)\n",
    "midi_file_recons = midi_parsing.from_tracks([ym_track_recons])\n",
    "\n",
    "with TemporaryDirectory() as temp:\n",
    "    midi_path_recons = Path(temp) / \"recons.mid\"\n",
    "    midi_file_recons.save(midi_path_recons)\n",
    "    player.play(midi_path_recons)"
   ]
  }
 ],
 "metadata": {
  "kernelspec": {
   "display_name": ".venv",
   "language": "python",
   "name": "python3"
  },
  "language_info": {
   "codemirror_mode": {
    "name": "ipython",
    "version": 3
   },
   "file_extension": ".py",
   "mimetype": "text/x-python",
   "name": "python",
   "nbconvert_exporter": "python",
   "pygments_lexer": "ipython3",
   "version": "3.10.11"
  },
  "orig_nbformat": 4
 },
 "nbformat": 4,
 "nbformat_minor": 2
}
