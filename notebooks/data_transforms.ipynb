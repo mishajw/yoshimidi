{
 "cells": [
  {
   "cell_type": "code",
   "execution_count": 1,
   "metadata": {},
   "outputs": [
    {
     "name": "stdout",
     "output_type": "stream",
     "text": [
      "pygame 2.5.0 (SDL 2.28.0, Python 3.10.11)\n",
      "Hello from the pygame community. https://www.pygame.org/contribute.html\n"
     ]
    }
   ],
   "source": [
    "from pathlib import Path\n",
    "from tempfile import TemporaryDirectory\n",
    "\n",
    "import torch\n",
    "from loguru import logger\n",
    "from mido import MidiFile\n",
    "\n",
    "from yoshimidi import player\n",
    "from yoshimidi.data.parse import midi_parsing, one_hot_parsing, token_parsing, track_parsing"
   ]
  },
  {
   "cell_type": "code",
   "execution_count": 22,
   "metadata": {},
   "outputs": [],
   "source": [
    "PATH_INDEX = 100\n",
    "midi_path = list(Path(\"../out/dataset/01_raw/lmd_full/\").rglob(\"*.mid\"))[PATH_INDEX]"
   ]
  },
  {
   "cell_type": "code",
   "execution_count": 23,
   "metadata": {},
   "outputs": [
    {
     "name": "stderr",
     "output_type": "stream",
     "text": [
      "\u001b[32m2023-08-26 21:30:14.552\u001b[0m | \u001b[1mINFO    \u001b[0m | \u001b[36myoshimidi.player\u001b[0m:\u001b[36mplay\u001b[0m:\u001b[36m12\u001b[0m - \u001b[1mPlaying ../out/dataset/01_raw/lmd_full/9/901ed509cb9b8315ed04c728f9ce5ec2.mid\u001b[0m\n"
     ]
    },
    {
     "name": "stderr",
     "output_type": "stream",
     "text": [
      "\u001b[32m2023-08-26 21:30:18.987\u001b[0m | \u001b[1mINFO    \u001b[0m | \u001b[36myoshimidi.player\u001b[0m:\u001b[36mplay\u001b[0m:\u001b[36m19\u001b[0m - \u001b[1mFinishing due to interrupt\u001b[0m\n"
     ]
    }
   ],
   "source": [
    "player.play(midi_path)"
   ]
  },
  {
   "cell_type": "code",
   "execution_count": 24,
   "metadata": {},
   "outputs": [
    {
     "name": "stderr",
     "output_type": "stream",
     "text": [
      "\u001b[32m2023-08-26 21:30:20.053\u001b[0m | \u001b[1mINFO    \u001b[0m | \u001b[36m__main__\u001b[0m:\u001b[36m<module>\u001b[0m:\u001b[36m4\u001b[0m - \u001b[1mnum channels: 5\u001b[0m\n",
      "\u001b[32m2023-08-26 21:30:20.092\u001b[0m | \u001b[1mINFO    \u001b[0m | \u001b[36myoshimidi.player\u001b[0m:\u001b[36mplay\u001b[0m:\u001b[36m12\u001b[0m - \u001b[1mPlaying /var/folders/7w/66fh_d3s5hb0br9f7wtqww1h0000gn/T/tmp2aga9nu3/recons.mid\u001b[0m\n",
      "\u001b[32m2023-08-26 21:30:23.366\u001b[0m | \u001b[1mINFO    \u001b[0m | \u001b[36myoshimidi.player\u001b[0m:\u001b[36mplay\u001b[0m:\u001b[36m19\u001b[0m - \u001b[1mFinishing due to interrupt\u001b[0m\n"
     ]
    }
   ],
   "source": [
    "CHANNEL_INDEX = 0\n",
    "midi_file = MidiFile(midi_path)\n",
    "channels = set(msg.channel for msg in midi_file if hasattr(msg, \"channel\"))\n",
    "logger.info(\"num channels: {}\".format(len(channels)))\n",
    "ym_track = track_parsing.from_midi(midi_file)\n",
    "assert ym_track is not None\n",
    "ym_tokens = [token_parsing.from_channel(channel) for channel in ym_track.channels.values()]\n",
    "ym_tokens = [ym_tokens[CHANNEL_INDEX]]\n",
    "ym_one_hot = one_hot_parsing.from_tokens(ym_tokens[0], device=torch.device(\"cpu\"), dtype=torch.float32)\n",
    "\n",
    "ym_track_recons = track_parsing.from_tokens(ym_tokens)\n",
    "midi_file_recons = midi_parsing.from_tracks([ym_track_recons])\n",
    "\n",
    "with TemporaryDirectory() as temp:\n",
    "    path = Path(temp) / \"recons.mid\"\n",
    "    midi_file_recons.save(path)\n",
    "    player.play(path)"
   ]
  }
 ],
 "metadata": {
  "kernelspec": {
   "display_name": ".venv",
   "language": "python",
   "name": "python3"
  },
  "language_info": {
   "codemirror_mode": {
    "name": "ipython",
    "version": 3
   },
   "file_extension": ".py",
   "mimetype": "text/x-python",
   "name": "python",
   "nbconvert_exporter": "python",
   "pygments_lexer": "ipython3",
   "version": "3.10.11"
  },
  "orig_nbformat": 4
 },
 "nbformat": 4,
 "nbformat_minor": 2
}
