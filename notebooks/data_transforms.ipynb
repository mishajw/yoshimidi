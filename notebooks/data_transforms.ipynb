{
 "cells": [
  {
   "cell_type": "code",
   "execution_count": 10,
   "metadata": {},
   "outputs": [],
   "source": [
    "from pathlib import Path\n",
    "from tempfile import TemporaryDirectory\n",
    "\n",
    "import torch\n",
    "from loguru import logger\n",
    "from mido import MidiFile\n",
    "\n",
    "from yoshimidi import player\n",
    "from yoshimidi.data.parse import midi_parsing, one_hot_parsing, token_parsing, track_parsing"
   ]
  },
  {
   "cell_type": "code",
   "execution_count": 14,
   "metadata": {},
   "outputs": [
    {
     "name": "stderr",
     "output_type": "stream",
     "text": [
      "\u001b[32m2023-07-31 17:20:26.980\u001b[0m | \u001b[1mINFO    \u001b[0m | \u001b[36m__main__\u001b[0m:\u001b[36m<module>\u001b[0m:\u001b[36m9\u001b[0m - \u001b[1mnum tracks: 13\u001b[0m\n",
      "\u001b[32m2023-07-31 17:20:26.980\u001b[0m | \u001b[1mINFO    \u001b[0m | \u001b[36m__main__\u001b[0m:\u001b[36m<module>\u001b[0m:\u001b[36m10\u001b[0m - \u001b[1mtrack num messages: [2, 47, 47, 47, 47, 47, 47, 47, 47, 47, 47, 311, 47]\u001b[0m\n",
      "\u001b[32m2023-07-31 17:20:26.993\u001b[0m | \u001b[1mINFO    \u001b[0m | \u001b[36myoshimidi.player\u001b[0m:\u001b[36mplay\u001b[0m:\u001b[36m12\u001b[0m - \u001b[1mPlaying /var/folders/7w/66fh_d3s5hb0br9f7wtqww1h0000gn/T/tmpns8x_7yp/recons.mid\u001b[0m\n",
      "\u001b[32m2023-07-31 17:20:29.292\u001b[0m | \u001b[1mINFO    \u001b[0m | \u001b[36myoshimidi.player\u001b[0m:\u001b[36mplay\u001b[0m:\u001b[36m19\u001b[0m - \u001b[1mFinishing due to interrupt\u001b[0m\n"
     ]
    }
   ],
   "source": [
    "PATH_INDEX = 1\n",
    "TRACK_INDEX = 11\n",
    "CHANNEL_INDEX = None\n",
    "\n",
    "midi_path = list(Path(\"../out/dataset/01_raw/lmd_full/\").rglob(\"*.mid\"))[PATH_INDEX]\n",
    "# player.play(midi_path)\n",
    "\n",
    "midi_file = MidiFile(midi_path)\n",
    "logger.info(f\"num tracks: {len(midi_file.tracks)}\")\n",
    "logger.info(f\"track num messages: {[len(track) for track in midi_file.tracks]}\")\n",
    "midi_track = midi_file.tracks[TRACK_INDEX]\n",
    "ym_track = track_parsing.from_midi(midi_track, ticks_per_beat=midi_file.ticks_per_beat)\n",
    "assert ym_track is not None\n",
    "ym_tokens = [token_parsing.from_channel(channel) for channel in ym_track.channels.values()]\n",
    "if CHANNEL_INDEX is not None:\n",
    "    ym_tokens = [ym_tokens[CHANNEL_INDEX]]\n",
    "ym_one_hot = one_hot_parsing.from_tokens(ym_tokens[0], device=torch.device(\"cpu\"), dtype=torch.float32)\n",
    "\n",
    "ym_track_recons = track_parsing.from_tokens(ym_tokens)\n",
    "midi_file_recons = midi_parsing.from_tracks([ym_track_recons])\n",
    "\n",
    "with TemporaryDirectory() as temp:\n",
    "    midi_path_recons = Path(temp) / \"recons.mid\"\n",
    "    midi_file_recons.save(midi_path_recons)\n",
    "    player.play(midi_path_recons)"
   ]
  }
 ],
 "metadata": {
  "kernelspec": {
   "display_name": ".venv",
   "language": "python",
   "name": "python3"
  },
  "language_info": {
   "codemirror_mode": {
    "name": "ipython",
    "version": 3
   },
   "file_extension": ".py",
   "mimetype": "text/x-python",
   "name": "python",
   "nbconvert_exporter": "python",
   "pygments_lexer": "ipython3",
   "version": "3.10.11"
  },
  "orig_nbformat": 4
 },
 "nbformat": 4,
 "nbformat_minor": 2
}
