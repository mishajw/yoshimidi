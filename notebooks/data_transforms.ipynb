{
 "cells": [
  {
   "cell_type": "code",
   "execution_count": 34,
   "metadata": {},
   "outputs": [],
   "source": [
    "from pathlib import Path\n",
    "from tempfile import TemporaryDirectory\n",
    "\n",
    "import torch\n",
    "from loguru import logger\n",
    "from mido import MidiFile\n",
    "\n",
    "from yoshimidi import player\n",
    "from yoshimidi.data.parse import midi_parsing, one_hot_parsing, token_parsing, track_parsing"
   ]
  },
  {
   "cell_type": "code",
   "execution_count": 103,
   "metadata": {},
   "outputs": [],
   "source": [
    "PATH_INDEX = 7\n",
    "midi_path = list(Path(\"../out/dataset/01_raw/lmd_full/\").rglob(\"*.mid\"))[PATH_INDEX]"
   ]
  },
  {
   "cell_type": "code",
   "execution_count": 106,
   "metadata": {},
   "outputs": [
    {
     "name": "stderr",
     "output_type": "stream",
     "text": [
      "\u001b[32m2023-08-26 19:14:20.964\u001b[0m | \u001b[1mINFO    \u001b[0m | \u001b[36myoshimidi.player\u001b[0m:\u001b[36mplay\u001b[0m:\u001b[36m12\u001b[0m - \u001b[1mPlaying ../out/dataset/01_raw/lmd_full/9/98b15bd7d6c776499d67468410a297ae.mid\u001b[0m\n",
      "\u001b[32m2023-08-26 19:14:24.037\u001b[0m | \u001b[1mINFO    \u001b[0m | \u001b[36myoshimidi.player\u001b[0m:\u001b[36mplay\u001b[0m:\u001b[36m19\u001b[0m - \u001b[1mFinishing due to interrupt\u001b[0m\n"
     ]
    }
   ],
   "source": [
    "player.play(midi_path)"
   ]
  },
  {
   "cell_type": "code",
   "execution_count": 107,
   "metadata": {},
   "outputs": [
    {
     "name": "stderr",
     "output_type": "stream",
     "text": [
      "\u001b[32m2023-08-26 19:14:26.438\u001b[0m | \u001b[1mINFO    \u001b[0m | \u001b[36m__main__\u001b[0m:\u001b[36m<module>\u001b[0m:\u001b[36m5\u001b[0m - \u001b[1mnum channels: 4\u001b[0m\n",
      "\u001b[32m2023-08-26 19:14:26.453\u001b[0m | \u001b[1mINFO    \u001b[0m | \u001b[36myoshimidi.player\u001b[0m:\u001b[36mplay\u001b[0m:\u001b[36m12\u001b[0m - \u001b[1mPlaying /var/folders/7w/66fh_d3s5hb0br9f7wtqww1h0000gn/T/tmp_n1zpuui/recons.mid\u001b[0m\n"
     ]
    },
    {
     "name": "stdout",
     "output_type": "stream",
     "text": [
      "1\n",
      "[array([[  0,  40,   0,   0],\n",
      "       [  2,   0,   0, 132],\n",
      "       [  1,   0,  40,   0],\n",
      "       ...,\n",
      "       [  2,   0,   0, 119],\n",
      "       [  1,   0,  59,   0],\n",
      "       [  3,   0,   0,   0]], dtype=uint8)]\n"
     ]
    },
    {
     "name": "stderr",
     "output_type": "stream",
     "text": [
      "\u001b[32m2023-08-26 19:14:40.357\u001b[0m | \u001b[1mINFO    \u001b[0m | \u001b[36myoshimidi.player\u001b[0m:\u001b[36mplay\u001b[0m:\u001b[36m19\u001b[0m - \u001b[1mFinishing due to interrupt\u001b[0m\n"
     ]
    }
   ],
   "source": [
    "CHANNEL_INDEX = 1\n",
    "midi_file = MidiFile(midi_path)\n",
    "channels = set(msg.channel for msg in midi_file if hasattr(msg, \"channel\"))\n",
    "logger.info(\"num channels: {}\".format(len(channels)))\n",
    "ym_track = track_parsing.from_midi(midi_file)\n",
    "assert ym_track is not None\n",
    "ym_tokens = [token_parsing.from_channel(channel) for channel in ym_track.channels.values()]\n",
    "if CHANNEL_INDEX is not None:\n",
    "    ym_tokens = [ym_tokens[CHANNEL_INDEX]]\n",
    "ym_one_hot = one_hot_parsing.from_tokens(ym_tokens[0], device=torch.device(\"cpu\"), dtype=torch.float32)\n",
    "\n",
    "ym_track_recons = track_parsing.from_tokens(ym_tokens)\n",
    "midi_file_recons = midi_parsing.from_tracks([ym_track_recons])\n",
    "\n",
    "with TemporaryDirectory() as temp:\n",
    "    path = Path(temp) / \"recons.mid\"\n",
    "    midi_file_recons.save(path)\n",
    "    player.play(path)"
   ]
  },
  {
   "cell_type": "code",
   "execution_count": null,
   "metadata": {},
   "outputs": [],
   "source": [
    "player.play(midi_path)"
   ]
  },
  {
   "cell_type": "code",
   "execution_count": 32,
   "metadata": {},
   "outputs": [
    {
     "name": "stderr",
     "output_type": "stream",
     "text": [
      "\u001b[32m2023-08-26 18:59:27.964\u001b[0m | \u001b[1mINFO    \u001b[0m | \u001b[36myoshimidi.player\u001b[0m:\u001b[36mplay\u001b[0m:\u001b[36m12\u001b[0m - \u001b[1mPlaying /var/folders/7w/66fh_d3s5hb0br9f7wtqww1h0000gn/T/tmpq53navje/recons.mid\u001b[0m\n"
     ]
    },
    {
     "name": "stdout",
     "output_type": "stream",
     "text": [
      "2\n"
     ]
    },
    {
     "name": "stderr",
     "output_type": "stream",
     "text": [
      "\u001b[32m2023-08-26 18:59:31.064\u001b[0m | \u001b[1mINFO    \u001b[0m | \u001b[36myoshimidi.player\u001b[0m:\u001b[36mplay\u001b[0m:\u001b[36m19\u001b[0m - \u001b[1mFinishing due to interrupt\u001b[0m\n"
     ]
    }
   ],
   "source": [
    "from mido import MetaMessage\n",
    "\n",
    "midi_file = MidiFile(midi_path)\n",
    "new_midi_file = MidiFile()\n",
    "print(len(midi_file.tracks))\n",
    "for track in midi_file.tracks:\n",
    "    new_track = []\n",
    "    time_buffer = 0\n",
    "    for msg in track:\n",
    "        if hasattr(msg, \"channel\") and msg.channel != 2:\n",
    "            time_buffer += msg.time\n",
    "            continue\n",
    "        if isinstance(msg, MetaMessage) and msg.type in [\"time_signature\", \"set_tempo\"]:\n",
    "            continue\n",
    "        msg.time += time_buffer\n",
    "        time_buffer = 0\n",
    "        new_track.append(msg)\n",
    "    new_midi_file.tracks.append(new_track)\n",
    "\n",
    "# assert all(msg.type not in [\"time_signature\", \"set_tempo\"] for track in new_midi_file.tracks for msg in track)\n",
    "\n",
    "with TemporaryDirectory() as temp:\n",
    "    path = Path(temp) / \"recons.mid\"\n",
    "    new_midi_file.save(path)\n",
    "    player.play(path)\n"
   ]
  }
 ],
 "metadata": {
  "kernelspec": {
   "display_name": ".venv",
   "language": "python",
   "name": "python3"
  },
  "language_info": {
   "codemirror_mode": {
    "name": "ipython",
    "version": 3
   },
   "file_extension": ".py",
   "mimetype": "text/x-python",
   "name": "python",
   "nbconvert_exporter": "python",
   "pygments_lexer": "ipython3",
   "version": "3.10.11"
  },
  "orig_nbformat": 4
 },
 "nbformat": 4,
 "nbformat_minor": 2
}
