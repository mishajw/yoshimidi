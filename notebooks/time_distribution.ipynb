{
 "cells": [
  {
   "cell_type": "code",
   "execution_count": 7,
   "metadata": {},
   "outputs": [],
   "source": [
    "import itertools\n",
    "import pathlib\n",
    "from typing import List\n",
    "\n",
    "import msgspec\n",
    "from yoshimidi.data.parse.tracks import Track\n",
    "\n",
    "input_file = pathlib.Path(\"../out/dataset/dataset_parsed.jsonl\").resolve()"
   ]
  },
  {
   "cell_type": "code",
   "execution_count": 9,
   "metadata": {},
   "outputs": [],
   "source": [
    "rows = []\n",
    "with input_file.open(\"r\") as f:\n",
    "    for line in itertools.islice(f, 100):\n",
    "        tracks = msgspec.json.decode(line, type=List[Track])\n",
    "        for track in tracks:\n",
    "            for channel in track.channels.values():\n",
    "                for note in channel.notes:\n",
    "                    rows.append(note.time_delta_secs)"
   ]
  },
  {
   "cell_type": "code",
   "execution_count": 50,
   "metadata": {},
   "outputs": [
    {
     "name": "stdout",
     "output_type": "stream",
     "text": [
      "316.875\n",
      "0.0\n",
      "[4.88281250e-04 2.68817083e-03 4.16666667e-03 6.72042708e-03\n",
      " 9.40859792e-03 1.35416667e-02 1.82291667e-02 2.50000000e-02\n",
      " 3.33333333e-02 5.00000000e-02 6.25000000e-02 8.54166667e-02\n",
      " 1.06770833e-01 1.25000000e-01 1.42708333e-01 1.89655125e-01\n",
      " 2.37500000e-01 2.50000000e-01 4.00000000e-01 6.25000000e-01\n",
      " 3.16875000e+02]\n"
     ]
    },
    {
     "name": "stderr",
     "output_type": "stream",
     "text": [
      "/Users/misha/src/yoshimidi/.venv/lib/python3.10/site-packages/pandas/core/arraylike.py:396: RuntimeWarning: divide by zero encountered in log10\n",
      "  result = getattr(ufunc, method)(*inputs, **kwargs)\n"
     ]
    },
    {
     "ename": "NameError",
     "evalue": "name 'pd' is not defined",
     "output_type": "error",
     "traceback": [
      "\u001b[0;31m---------------------------------------------------------------------------\u001b[0m",
      "\u001b[0;31mNameError\u001b[0m                                 Traceback (most recent call last)",
      "Cell \u001b[0;32mIn[50], line 31\u001b[0m\n\u001b[1;32m     21\u001b[0m         bucket_rows \u001b[39m=\u001b[39m bucket_rows[bucket_rows \u001b[39m<\u001b[39m upper_thresh]\n\u001b[1;32m     22\u001b[0m     df\u001b[39m.\u001b[39mappend(\n\u001b[1;32m     23\u001b[0m         \u001b[39mdict\u001b[39m(\n\u001b[1;32m     24\u001b[0m             bucket\u001b[39m=\u001b[39mbuckets[idx],\n\u001b[0;32m   (...)\u001b[0m\n\u001b[1;32m     28\u001b[0m         )\n\u001b[1;32m     29\u001b[0m     )\n\u001b[0;32m---> 31\u001b[0m \u001b[39mprint\u001b[39m(pd\u001b[39m.\u001b[39mDataFrame(df))\n",
      "\u001b[0;31mNameError\u001b[0m: name 'pd' is not defined"
     ]
    },
    {
     "data": {
      "image/png": "[encoded data removed]",
      "text/plain": [
       "<Figure size 640x480 with 1 Axes>"
      ]
     },
     "metadata": {},
     "output_type": "display_data"
    }
   ],
   "source": [
    "import pandas as pd\n",
    "import seaborn as sns\n",
    "import numpy as np\n",
    "\n",
    "rows = np.array(rows)\n",
    "sns.ecdfplot(rows, log_scale=True)\n",
    "print(rows.max())\n",
    "print(((0 < rows) & (rows < 1e-4)).mean())\n",
    "print(np.quantile(rows[rows > 0], np.arange(0, 1.0001, 0.05)))\n",
    "\n",
    "buckets = [0, *[2**exponent for exponent in range(-8, 1)], 300]\n",
    "df = []\n",
    "for idx in range(len(buckets)):\n",
    "    bucket_rows = rows\n",
    "    lower_thresh = None\n",
    "    upper_thresh = None\n",
    "    if idx > 0:\n",
    "        lower_thresh = (buckets[idx - 1] + buckets[idx]) / 2\n",
    "        bucket_rows = bucket_rows[lower_thresh <= bucket_rows]\n",
    "    if idx < len(buckets) - 1:\n",
    "        upper_thresh = (buckets[idx] + buckets[idx + 1]) / 2\n",
    "        bucket_rows = bucket_rows[bucket_rows < upper_thresh]\n",
    "    df.append(\n",
    "        dict(\n",
    "            bucket=buckets[idx],\n",
    "            lower_thresh=lower_thresh,\n",
    "            upper_thresh=upper_thresh,\n",
    "            perc=len(bucket_rows) / len(rows),\n",
    "        )\n",
    "    )\n",
    "\n",
    "print(pd.DataFrame(df))\n"
   ]
  },
  {
   "cell_type": "code",
   "execution_count": null,
   "metadata": {},
   "outputs": [],
   "source": []
  }
 ],
 "metadata": {
  "kernelspec": {
   "display_name": ".venv",
   "language": "python",
   "name": "python3"
  },
  "language_info": {
   "codemirror_mode": {
    "name": "ipython",
    "version": 3
   },
   "file_extension": ".py",
   "mimetype": "text/x-python",
   "name": "python",
   "nbconvert_exporter": "python",
   "pygments_lexer": "ipython3",
   "version": "3.10.11"
  },
  "orig_nbformat": 4
 },
 "nbformat": 4,
 "nbformat_minor": 2
}
